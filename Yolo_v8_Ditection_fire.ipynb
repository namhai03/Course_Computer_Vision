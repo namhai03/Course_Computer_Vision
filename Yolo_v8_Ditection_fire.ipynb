{
  "nbformat": 4,
  "nbformat_minor": 0,
  "metadata": {
    "colab": {
      "provenance": [],
      "gpuType": "T4",
      "authorship_tag": "ABX9TyO32E38pUA1FuWbHG8DkY0J",
      "include_colab_link": true
    },
    "kernelspec": {
      "name": "python3",
      "display_name": "Python 3"
    },
    "language_info": {
      "name": "python"
    },
    "accelerator": "GPU"
  },
  "cells": [
    {
      "cell_type": "markdown",
      "metadata": {
        "id": "view-in-github",
        "colab_type": "text"
      },
      "source": [
        "<a href=\"https://colab.research.google.com/github/namhai03/Course_Computer_Vision/blob/main/Yolo_v8_Ditection_fire.ipynb\" target=\"_parent\"><img src=\"https://colab.research.google.com/assets/colab-badge.svg\" alt=\"Open In Colab\"/></a>"
      ]
    },
    {
      "cell_type": "code",
      "execution_count": null,
      "metadata": {
        "id": "xrkxB_Ut5Pit"
      },
      "outputs": [],
      "source": [
        "!pip install ultralytics"
      ]
    },
    {
      "cell_type": "code",
      "source": [
        "!unzip /content/firedata.zip"
      ],
      "metadata": {
        "colab": {
          "base_uri": "https://localhost:8080/"
        },
        "id": "AwTh5Vq_5fh2",
        "outputId": "174f1708-476e-4f74-9764-756af9b12810"
      },
      "execution_count": null,
      "outputs": [
        {
          "output_type": "stream",
          "name": "stdout",
          "text": [
            "Archive:  /content/firedata.zip\n",
            "  inflating: 000001.jpg              \n",
            "  inflating: __MACOSX/._000001.jpg   \n",
            "  inflating: 000001.txt              \n",
            "  inflating: __MACOSX/._000001.txt   \n",
            "  inflating: 000002.jpg              \n",
            "  inflating: __MACOSX/._000002.jpg   \n",
            "  inflating: 000002.txt              \n",
            "  inflating: __MACOSX/._000002.txt   \n",
            "  inflating: 000003.jpg              \n",
            "  inflating: __MACOSX/._000003.jpg   \n",
            "  inflating: 000004.jpg              \n",
            "  inflating: __MACOSX/._000004.jpg   \n",
            "  inflating: 000004.txt              \n",
            "  inflating: __MACOSX/._000004.txt   \n",
            "  inflating: 000005.jpg              \n",
            "  inflating: __MACOSX/._000005.jpg   \n",
            "  inflating: 000005.txt              \n",
            "  inflating: __MACOSX/._000005.txt   \n",
            "  inflating: 000006.jpg              \n",
            "  inflating: __MACOSX/._000006.jpg   \n",
            "  inflating: 000006.txt              \n",
            "  inflating: __MACOSX/._000006.txt   \n",
            "  inflating: 000007.jpg              \n",
            "  inflating: __MACOSX/._000007.jpg   \n",
            "  inflating: 000008.jpg              \n",
            "  inflating: __MACOSX/._000008.jpg   \n",
            "  inflating: 000008.txt              \n",
            "  inflating: __MACOSX/._000008.txt   \n",
            "  inflating: 000009.jpg              \n",
            "  inflating: __MACOSX/._000009.jpg   \n",
            "  inflating: 000009.txt              \n",
            "  inflating: __MACOSX/._000009.txt   \n",
            "  inflating: 000011.jpg              \n",
            "  inflating: __MACOSX/._000011.jpg   \n",
            "  inflating: 000011.txt              \n",
            "  inflating: __MACOSX/._000011.txt   \n",
            "  inflating: 000012.jpg              \n",
            "  inflating: __MACOSX/._000012.jpg   \n",
            "  inflating: 000012.txt              \n",
            "  inflating: __MACOSX/._000012.txt   \n",
            "  inflating: 000013.jpg              \n",
            "  inflating: __MACOSX/._000013.jpg   \n",
            "  inflating: 000013.txt              \n",
            "  inflating: __MACOSX/._000013.txt   \n",
            "  inflating: 000014.jpg              \n",
            "  inflating: __MACOSX/._000014.jpg   \n",
            "  inflating: 000014.txt              \n",
            "  inflating: __MACOSX/._000014.txt   \n",
            "  inflating: 000015.jpg              \n",
            "  inflating: __MACOSX/._000015.jpg   \n",
            "  inflating: 000015.txt              \n",
            "  inflating: __MACOSX/._000015.txt   \n",
            "  inflating: 000016.jpg              \n",
            "  inflating: __MACOSX/._000016.jpg   \n",
            "  inflating: 000016.txt              \n",
            "  inflating: __MACOSX/._000016.txt   \n",
            "  inflating: 000017.jpg              \n",
            "  inflating: __MACOSX/._000017.jpg   \n",
            "  inflating: 000018.jpg              \n",
            "  inflating: __MACOSX/._000018.jpg   \n",
            "  inflating: 000019.jpg              \n",
            "  inflating: __MACOSX/._000019.jpg   \n",
            "  inflating: 000020.jpg              \n",
            "  inflating: __MACOSX/._000020.jpg   \n",
            "  inflating: 000020.txt              \n",
            "  inflating: __MACOSX/._000020.txt   \n",
            "  inflating: 000021.jpg              \n",
            "  inflating: __MACOSX/._000021.jpg   \n",
            "  inflating: 000021.txt              \n",
            "  inflating: __MACOSX/._000021.txt   \n",
            "  inflating: 000022.jpg              \n",
            "  inflating: __MACOSX/._000022.jpg   \n",
            "  inflating: 000023.jpg              \n",
            "  inflating: __MACOSX/._000023.jpg   \n",
            "  inflating: 000023.txt              \n",
            "  inflating: __MACOSX/._000023.txt   \n",
            "  inflating: 000024.jpg              \n",
            "  inflating: __MACOSX/._000024.jpg   \n",
            "  inflating: 000025.jpg              \n",
            "  inflating: __MACOSX/._000025.jpg   \n",
            "  inflating: 000025.txt              \n",
            "  inflating: __MACOSX/._000025.txt   \n",
            "  inflating: 000026.jpg              \n",
            "  inflating: __MACOSX/._000026.jpg   \n",
            "  inflating: 000027.jpg              \n",
            "  inflating: __MACOSX/._000027.jpg   \n",
            "  inflating: 000027.txt              \n",
            "  inflating: __MACOSX/._000027.txt   \n",
            "  inflating: 000028.jpg              \n",
            "  inflating: __MACOSX/._000028.jpg   \n",
            "  inflating: 000029.jpg              \n",
            "  inflating: __MACOSX/._000029.jpg   \n",
            "  inflating: 000029.txt              \n",
            "  inflating: __MACOSX/._000029.txt   \n",
            "  inflating: 000030.jpg              \n",
            "  inflating: __MACOSX/._000030.jpg   \n",
            "  inflating: 000030.txt              \n",
            "  inflating: __MACOSX/._000030.txt   \n",
            "  inflating: 000031.jpg              \n",
            "  inflating: __MACOSX/._000031.jpg   \n",
            "  inflating: 000031.txt              \n",
            "  inflating: __MACOSX/._000031.txt   \n",
            "  inflating: 000032.jpg              \n",
            "  inflating: __MACOSX/._000032.jpg   \n",
            "  inflating: 000032.txt              \n",
            "  inflating: __MACOSX/._000032.txt   \n",
            "  inflating: 000033.jpg              \n",
            "  inflating: __MACOSX/._000033.jpg   \n",
            "  inflating: 000033.txt              \n",
            "  inflating: __MACOSX/._000033.txt   \n",
            "  inflating: 000034.jpg              \n",
            "  inflating: __MACOSX/._000034.jpg   \n",
            "  inflating: 000034.txt              \n",
            "  inflating: __MACOSX/._000034.txt   \n",
            "  inflating: 000035.jpg              \n",
            "  inflating: __MACOSX/._000035.jpg   \n",
            "  inflating: 000035.txt              \n",
            "  inflating: __MACOSX/._000035.txt   \n",
            "  inflating: 000036.jpg              \n",
            "  inflating: __MACOSX/._000036.jpg   \n",
            "  inflating: 000037.jpg              \n",
            "  inflating: __MACOSX/._000037.jpg   \n",
            "  inflating: 000037.txt              \n",
            "  inflating: __MACOSX/._000037.txt   \n",
            "  inflating: 000038.jpg              \n",
            "  inflating: __MACOSX/._000038.jpg   \n",
            "  inflating: 000038.txt              \n",
            "  inflating: __MACOSX/._000038.txt   \n",
            "  inflating: 000039.jpg              \n",
            "  inflating: __MACOSX/._000039.jpg   \n",
            "  inflating: 000039.txt              \n",
            "  inflating: __MACOSX/._000039.txt   \n",
            "  inflating: 000040.jpg              \n",
            "  inflating: __MACOSX/._000040.jpg   \n",
            "  inflating: 000041.jpg              \n",
            "  inflating: __MACOSX/._000041.jpg   \n",
            "  inflating: 000041.txt              \n",
            "  inflating: __MACOSX/._000041.txt   \n",
            "  inflating: 000042.jpg              \n",
            "  inflating: __MACOSX/._000042.jpg   \n",
            "  inflating: 000042.txt              \n",
            "  inflating: __MACOSX/._000042.txt   \n",
            "  inflating: 000043.jpg              \n",
            "  inflating: __MACOSX/._000043.jpg   \n",
            "  inflating: 000043.txt              \n",
            "  inflating: __MACOSX/._000043.txt   \n",
            "  inflating: 000044.jpg              \n",
            "  inflating: __MACOSX/._000044.jpg   \n",
            "  inflating: 000044.txt              \n",
            "  inflating: __MACOSX/._000044.txt   \n",
            "  inflating: 000045.jpg              \n",
            "  inflating: __MACOSX/._000045.jpg   \n",
            "  inflating: 000045.txt              \n",
            "  inflating: __MACOSX/._000045.txt   \n",
            "  inflating: 000046.jpg              \n",
            "  inflating: __MACOSX/._000046.jpg   \n",
            "  inflating: 000046.txt              \n",
            "  inflating: __MACOSX/._000046.txt   \n",
            "  inflating: 000047.jpg              \n",
            "  inflating: __MACOSX/._000047.jpg   \n",
            "  inflating: 000047.txt              \n",
            "  inflating: __MACOSX/._000047.txt   \n",
            "  inflating: 000048.jpg              \n",
            "  inflating: __MACOSX/._000048.jpg   \n",
            "  inflating: 000048.txt              \n",
            "  inflating: __MACOSX/._000048.txt   \n",
            "  inflating: 000049.jpg              \n",
            "  inflating: __MACOSX/._000049.jpg   \n",
            "  inflating: 000049.txt              \n",
            "  inflating: __MACOSX/._000049.txt   \n",
            "  inflating: 000050.jpg              \n",
            "  inflating: __MACOSX/._000050.jpg   \n",
            "  inflating: 000050.txt              \n",
            "  inflating: __MACOSX/._000050.txt   \n",
            "  inflating: 000051.jpg              \n",
            "  inflating: __MACOSX/._000051.jpg   \n",
            "  inflating: 000051.txt              \n",
            "  inflating: __MACOSX/._000051.txt   \n",
            "  inflating: 000052.jpg              \n",
            "  inflating: __MACOSX/._000052.jpg   \n",
            "  inflating: 000052.txt              \n",
            "  inflating: __MACOSX/._000052.txt   \n",
            "  inflating: 000053.jpg              \n",
            "  inflating: __MACOSX/._000053.jpg   \n",
            "  inflating: 000053.txt              \n",
            "  inflating: __MACOSX/._000053.txt   \n",
            "  inflating: 000054.jpg              \n",
            "  inflating: __MACOSX/._000054.jpg   \n",
            "  inflating: 000054.txt              \n",
            "  inflating: __MACOSX/._000054.txt   \n",
            "  inflating: 000055.jpg              \n",
            "  inflating: __MACOSX/._000055.jpg   \n",
            "  inflating: 000056.jpg              \n",
            "  inflating: __MACOSX/._000056.jpg   \n",
            "  inflating: 000056.txt              \n",
            "  inflating: __MACOSX/._000056.txt   \n",
            "  inflating: 000057.jpg              \n",
            "  inflating: __MACOSX/._000057.jpg   \n",
            "  inflating: 000057.txt              \n",
            "  inflating: __MACOSX/._000057.txt   \n",
            "  inflating: 000058.jpg              \n",
            "  inflating: __MACOSX/._000058.jpg   \n",
            "  inflating: 000058.txt              \n",
            "  inflating: __MACOSX/._000058.txt   \n",
            "  inflating: 000059.jpg              \n",
            "  inflating: __MACOSX/._000059.jpg   \n",
            "  inflating: 000059.txt              \n",
            "  inflating: __MACOSX/._000059.txt   \n",
            "  inflating: 000060.jpg              \n",
            "  inflating: __MACOSX/._000060.jpg   \n",
            "  inflating: 000060.txt              \n",
            "  inflating: __MACOSX/._000060.txt   \n",
            "  inflating: 000061.jpg              \n",
            "  inflating: __MACOSX/._000061.jpg   \n",
            "  inflating: 000062.jpg              \n",
            "  inflating: __MACOSX/._000062.jpg   \n",
            "  inflating: 000062.txt              \n",
            "  inflating: __MACOSX/._000062.txt   \n",
            "  inflating: 000063.jpg              \n",
            "  inflating: __MACOSX/._000063.jpg   \n",
            "  inflating: 000063.txt              \n",
            "  inflating: __MACOSX/._000063.txt   \n",
            "  inflating: 000064.jpg              \n",
            "  inflating: __MACOSX/._000064.jpg   \n",
            "  inflating: 000064.txt              \n",
            "  inflating: __MACOSX/._000064.txt   \n",
            "  inflating: 000065.jpg              \n",
            "  inflating: __MACOSX/._000065.jpg   \n",
            "  inflating: 000065.txt              \n",
            "  inflating: __MACOSX/._000065.txt   \n",
            "  inflating: 000066.jpg              \n",
            "  inflating: __MACOSX/._000066.jpg   \n",
            "  inflating: 000066.txt              \n",
            "  inflating: __MACOSX/._000066.txt   \n",
            "  inflating: 000067.jpg              \n",
            "  inflating: __MACOSX/._000067.jpg   \n",
            "  inflating: 000067.txt              \n",
            "  inflating: __MACOSX/._000067.txt   \n",
            "  inflating: 000068.jpg              \n",
            "  inflating: __MACOSX/._000068.jpg   \n",
            "  inflating: 000068.txt              \n",
            "  inflating: __MACOSX/._000068.txt   \n",
            "  inflating: 000069.jpg              \n",
            "  inflating: __MACOSX/._000069.jpg   \n",
            "  inflating: 000069.txt              \n",
            "  inflating: __MACOSX/._000069.txt   \n",
            "  inflating: 000070.jpg              \n",
            "  inflating: __MACOSX/._000070.jpg   \n",
            "  inflating: 000070.txt              \n",
            "  inflating: __MACOSX/._000070.txt   \n",
            "  inflating: 000071.jpg              \n",
            "  inflating: __MACOSX/._000071.jpg   \n",
            "  inflating: 000071.txt              \n",
            "  inflating: __MACOSX/._000071.txt   \n",
            "  inflating: 000072.jpg              \n",
            "  inflating: __MACOSX/._000072.jpg   \n",
            "  inflating: 000072.txt              \n",
            "  inflating: __MACOSX/._000072.txt   \n",
            "  inflating: 000073.jpg              \n",
            "  inflating: __MACOSX/._000073.jpg   \n",
            "  inflating: 000074.jpg              \n",
            "  inflating: __MACOSX/._000074.jpg   \n",
            "  inflating: 000074.txt              \n",
            "  inflating: __MACOSX/._000074.txt   \n",
            "  inflating: 000075.jpg              \n",
            "  inflating: __MACOSX/._000075.jpg   \n",
            "  inflating: 000075.txt              \n",
            "  inflating: __MACOSX/._000075.txt   \n",
            "  inflating: 000076.jpg              \n",
            "  inflating: __MACOSX/._000076.jpg   \n",
            "  inflating: 000077.jpg              \n",
            "  inflating: __MACOSX/._000077.jpg   \n",
            "  inflating: 000077.txt              \n",
            "  inflating: __MACOSX/._000077.txt   \n",
            "  inflating: 000078.jpg              \n",
            "  inflating: __MACOSX/._000078.jpg   \n",
            "  inflating: 000078.txt              \n",
            "  inflating: __MACOSX/._000078.txt   \n",
            "  inflating: 000079.jpg              \n",
            "  inflating: __MACOSX/._000079.jpg   \n",
            "  inflating: 000080.jpg              \n",
            "  inflating: __MACOSX/._000080.jpg   \n",
            "  inflating: 000080.txt              \n",
            "  inflating: __MACOSX/._000080.txt   \n",
            "  inflating: 000081.jpg              \n",
            "  inflating: __MACOSX/._000081.jpg   \n",
            "  inflating: 000081.txt              \n",
            "  inflating: __MACOSX/._000081.txt   \n",
            "  inflating: 000082.jpg              \n",
            "  inflating: __MACOSX/._000082.jpg   \n",
            "  inflating: 000083.jpg              \n",
            "  inflating: __MACOSX/._000083.jpg   \n",
            "  inflating: 000083.txt              \n",
            "  inflating: __MACOSX/._000083.txt   \n",
            "  inflating: 000084.jpg              \n",
            "  inflating: __MACOSX/._000084.jpg   \n",
            "  inflating: 000085.jpg              \n",
            "  inflating: __MACOSX/._000085.jpg   \n",
            "  inflating: 000085.txt              \n",
            "  inflating: __MACOSX/._000085.txt   \n",
            "  inflating: 000086.jpg              \n",
            "  inflating: __MACOSX/._000086.jpg   \n",
            "  inflating: 000086.txt              \n",
            "  inflating: __MACOSX/._000086.txt   \n",
            "  inflating: 000087.jpg              \n",
            "  inflating: __MACOSX/._000087.jpg   \n",
            "  inflating: 000088.jpg              \n",
            "  inflating: __MACOSX/._000088.jpg   \n",
            "  inflating: 000088.txt              \n",
            "  inflating: __MACOSX/._000088.txt   \n",
            "  inflating: 000089.jpg              \n",
            "  inflating: __MACOSX/._000089.jpg   \n",
            "  inflating: 000090.jpg              \n",
            "  inflating: __MACOSX/._000090.jpg   \n",
            "  inflating: 000090.txt              \n",
            "  inflating: __MACOSX/._000090.txt   \n",
            "  inflating: 000091.jpg              \n",
            "  inflating: __MACOSX/._000091.jpg   \n",
            "  inflating: 000091.txt              \n",
            "  inflating: __MACOSX/._000091.txt   \n",
            "  inflating: 000092.jpg              \n",
            "  inflating: __MACOSX/._000092.jpg   \n",
            "  inflating: 000093.jpg              \n",
            "  inflating: __MACOSX/._000093.jpg   \n",
            "  inflating: 000094.jpg              \n",
            "  inflating: __MACOSX/._000094.jpg   \n",
            "  inflating: 000094.txt              \n",
            "  inflating: __MACOSX/._000094.txt   \n",
            "  inflating: 000095.jpg              \n",
            "  inflating: __MACOSX/._000095.jpg   \n",
            "  inflating: 000095.txt              \n",
            "  inflating: __MACOSX/._000095.txt   \n",
            "  inflating: 000096.jpg              \n",
            "  inflating: __MACOSX/._000096.jpg   \n",
            "  inflating: 000096.txt              \n",
            "  inflating: __MACOSX/._000096.txt   \n",
            "  inflating: 000097.jpg              \n",
            "  inflating: __MACOSX/._000097.jpg   \n",
            "  inflating: 000097.txt              \n",
            "  inflating: __MACOSX/._000097.txt   \n",
            "  inflating: 000098.jpg              \n",
            "  inflating: __MACOSX/._000098.jpg   \n",
            "  inflating: 000098.txt              \n",
            "  inflating: __MACOSX/._000098.txt   \n",
            "  inflating: 000099.jpg              \n",
            "  inflating: __MACOSX/._000099.jpg   \n",
            "  inflating: 000099.txt              \n",
            "  inflating: __MACOSX/._000099.txt   \n",
            "  inflating: 000100.jpg              \n",
            "  inflating: __MACOSX/._000100.jpg   \n",
            "  inflating: 000100.txt              \n",
            "  inflating: __MACOSX/._000100.txt   \n",
            "  inflating: 000101.jpg              \n",
            "  inflating: __MACOSX/._000101.jpg   \n",
            "  inflating: 000101.txt              \n",
            "  inflating: __MACOSX/._000101.txt   \n",
            "  inflating: 000102.jpg              \n",
            "  inflating: __MACOSX/._000102.jpg   \n",
            "  inflating: 000102.txt              \n",
            "  inflating: __MACOSX/._000102.txt   \n",
            "  inflating: 000103.jpg              \n",
            "  inflating: __MACOSX/._000103.jpg   \n",
            "  inflating: 000103.txt              \n",
            "  inflating: __MACOSX/._000103.txt   \n",
            "  inflating: 000104.jpg              \n",
            "  inflating: __MACOSX/._000104.jpg   \n",
            "  inflating: 000104.txt              \n",
            "  inflating: __MACOSX/._000104.txt   \n",
            "  inflating: 000105.jpg              \n",
            "  inflating: __MACOSX/._000105.jpg   \n",
            "  inflating: 000106.jpg              \n",
            "  inflating: __MACOSX/._000106.jpg   \n",
            "  inflating: 000106.txt              \n",
            "  inflating: __MACOSX/._000106.txt   \n",
            "  inflating: 000107.jpg              \n",
            "  inflating: __MACOSX/._000107.jpg   \n",
            "  inflating: 000108.jpg              \n",
            "  inflating: __MACOSX/._000108.jpg   \n",
            "  inflating: 000108.txt              \n",
            "  inflating: __MACOSX/._000108.txt   \n",
            "  inflating: 000109.jpg              \n",
            "  inflating: __MACOSX/._000109.jpg   \n",
            "  inflating: 000109.txt              \n",
            "  inflating: __MACOSX/._000109.txt   \n",
            "  inflating: 000110.jpg              \n",
            "  inflating: __MACOSX/._000110.jpg   \n",
            "  inflating: 000110.txt              \n",
            "  inflating: __MACOSX/._000110.txt   \n",
            "  inflating: 000111.jpg              \n",
            "  inflating: __MACOSX/._000111.jpg   \n",
            "  inflating: 000111.txt              \n",
            "  inflating: __MACOSX/._000111.txt   \n",
            "  inflating: 000112.jpg              \n",
            "  inflating: __MACOSX/._000112.jpg   \n",
            "  inflating: 000112.txt              \n",
            "  inflating: __MACOSX/._000112.txt   \n",
            "  inflating: 000113.jpg              \n",
            "  inflating: __MACOSX/._000113.jpg   \n",
            "  inflating: 000114.jpg              \n",
            "  inflating: __MACOSX/._000114.jpg   \n",
            "  inflating: 000114.txt              \n",
            "  inflating: __MACOSX/._000114.txt   \n",
            "  inflating: 000115.jpg              \n",
            "  inflating: __MACOSX/._000115.jpg   \n",
            "  inflating: 000115.txt              \n",
            "  inflating: __MACOSX/._000115.txt   \n",
            "  inflating: 000116.jpg              \n",
            "  inflating: __MACOSX/._000116.jpg   \n",
            "  inflating: 000116.txt              \n",
            "  inflating: __MACOSX/._000116.txt   \n",
            "  inflating: 000117.jpg              \n",
            "  inflating: __MACOSX/._000117.jpg   \n",
            "  inflating: 000118.jpg              \n",
            "  inflating: __MACOSX/._000118.jpg   \n",
            "  inflating: 000119.jpg              \n",
            "  inflating: __MACOSX/._000119.jpg   \n",
            "  inflating: 000120.jpg              \n",
            "  inflating: __MACOSX/._000120.jpg   \n",
            "  inflating: 000121.jpg              \n",
            "  inflating: __MACOSX/._000121.jpg   \n",
            "  inflating: 000121.txt              \n",
            "  inflating: __MACOSX/._000121.txt   \n",
            "  inflating: 000122.jpg              \n",
            "  inflating: __MACOSX/._000122.jpg   \n",
            "  inflating: 000122.txt              \n",
            "  inflating: __MACOSX/._000122.txt   \n",
            "  inflating: 000123.jpg              \n",
            "  inflating: __MACOSX/._000123.jpg   \n",
            "  inflating: 000123.txt              \n",
            "  inflating: __MACOSX/._000123.txt   \n",
            "  inflating: 000124.jpg              \n",
            "  inflating: __MACOSX/._000124.jpg   \n",
            "  inflating: 000124.txt              \n",
            "  inflating: __MACOSX/._000124.txt   \n",
            "  inflating: 000125.jpg              \n",
            "  inflating: __MACOSX/._000125.jpg   \n",
            "  inflating: 000125.txt              \n",
            "  inflating: __MACOSX/._000125.txt   \n",
            "  inflating: 000126.jpg              \n",
            "  inflating: __MACOSX/._000126.jpg   \n",
            "  inflating: 000126.txt              \n",
            "  inflating: __MACOSX/._000126.txt   \n",
            "  inflating: 000127.jpg              \n",
            "  inflating: __MACOSX/._000127.jpg   \n",
            "  inflating: 000127.txt              \n",
            "  inflating: __MACOSX/._000127.txt   \n",
            "  inflating: 000128.jpg              \n",
            "  inflating: __MACOSX/._000128.jpg   \n",
            "  inflating: 000129.jpg              \n",
            "  inflating: __MACOSX/._000129.jpg   \n",
            "  inflating: 000130.jpg              \n",
            "  inflating: __MACOSX/._000130.jpg   \n",
            "  inflating: 000130.txt              \n",
            "  inflating: __MACOSX/._000130.txt   \n",
            "  inflating: 000131.jpg              \n",
            "  inflating: __MACOSX/._000131.jpg   \n",
            "  inflating: 000131.txt              \n",
            "  inflating: __MACOSX/._000131.txt   \n",
            "  inflating: 000132.jpg              \n",
            "  inflating: __MACOSX/._000132.jpg   \n",
            "  inflating: 000132.txt              \n",
            "  inflating: __MACOSX/._000132.txt   \n",
            "  inflating: 000133.jpg              \n",
            "  inflating: __MACOSX/._000133.jpg   \n",
            "  inflating: 000133.txt              \n",
            "  inflating: __MACOSX/._000133.txt   \n",
            "  inflating: 000134.jpg              \n",
            "  inflating: __MACOSX/._000134.jpg   \n",
            "  inflating: 000134.txt              \n",
            "  inflating: __MACOSX/._000134.txt   \n",
            "  inflating: 000135.jpg              \n",
            "  inflating: __MACOSX/._000135.jpg   \n",
            "  inflating: 000135.txt              \n",
            "  inflating: __MACOSX/._000135.txt   \n",
            "  inflating: 000136.jpg              \n",
            "  inflating: __MACOSX/._000136.jpg   \n",
            "  inflating: 000137.jpg              \n",
            "  inflating: __MACOSX/._000137.jpg   \n",
            "  inflating: 000138.jpg              \n",
            "  inflating: __MACOSX/._000138.jpg   \n",
            "  inflating: 000138.txt              \n",
            "  inflating: __MACOSX/._000138.txt   \n",
            "  inflating: 000139.jpg              \n",
            "  inflating: __MACOSX/._000139.jpg   \n",
            "  inflating: 000139.txt              \n",
            "  inflating: __MACOSX/._000139.txt   \n",
            "  inflating: 000140.jpg              \n",
            "  inflating: __MACOSX/._000140.jpg   \n",
            "  inflating: 000141.jpg              \n",
            "  inflating: __MACOSX/._000141.jpg   \n",
            "  inflating: 000141.txt              \n",
            "  inflating: __MACOSX/._000141.txt   \n",
            "  inflating: 000142.jpg              \n",
            "  inflating: __MACOSX/._000142.jpg   \n",
            "  inflating: 000142.txt              \n",
            "  inflating: __MACOSX/._000142.txt   \n",
            "  inflating: 000143.jpg              \n",
            "  inflating: __MACOSX/._000143.jpg   \n",
            "  inflating: 000144.jpg              \n",
            "  inflating: __MACOSX/._000144.jpg   \n",
            "  inflating: 000144.txt              \n",
            "  inflating: __MACOSX/._000144.txt   \n",
            "  inflating: 000145.jpg              \n",
            "  inflating: __MACOSX/._000145.jpg   \n",
            "  inflating: 000145.txt              \n",
            "  inflating: __MACOSX/._000145.txt   \n",
            "  inflating: 000146.jpg              \n",
            "  inflating: __MACOSX/._000146.jpg   \n",
            "  inflating: 000147.jpg              \n",
            "  inflating: __MACOSX/._000147.jpg   \n",
            "  inflating: 000148.jpg              \n",
            "  inflating: __MACOSX/._000148.jpg   \n",
            "  inflating: 000149.jpg              \n",
            "  inflating: __MACOSX/._000149.jpg   \n",
            "  inflating: 000150.jpg              \n",
            "  inflating: __MACOSX/._000150.jpg   \n",
            "  inflating: 000150.txt              \n",
            "  inflating: __MACOSX/._000150.txt   \n",
            "  inflating: 000151.jpg              \n",
            "  inflating: __MACOSX/._000151.jpg   \n",
            "  inflating: 000152.jpg              \n",
            "  inflating: __MACOSX/._000152.jpg   \n",
            "  inflating: 000152.txt              \n",
            "  inflating: __MACOSX/._000152.txt   \n",
            "  inflating: 000153.jpg              \n",
            "  inflating: __MACOSX/._000153.jpg   \n",
            "  inflating: 000154.jpg              \n",
            "  inflating: __MACOSX/._000154.jpg   \n",
            "  inflating: 000154.txt              \n",
            "  inflating: __MACOSX/._000154.txt   \n",
            "  inflating: 000155.jpg              \n",
            "  inflating: __MACOSX/._000155.jpg   \n",
            "  inflating: 000155.txt              \n",
            "  inflating: __MACOSX/._000155.txt   \n",
            "  inflating: 000156.jpg              \n",
            "  inflating: __MACOSX/._000156.jpg   \n",
            "  inflating: 000156.txt              \n",
            "  inflating: __MACOSX/._000156.txt   \n",
            "  inflating: 000157.jpg              \n",
            "  inflating: __MACOSX/._000157.jpg   \n",
            "  inflating: 000158.jpg              \n",
            "  inflating: __MACOSX/._000158.jpg   \n",
            "  inflating: 000158.txt              \n",
            "  inflating: __MACOSX/._000158.txt   \n",
            "  inflating: 000159.jpg              \n",
            "  inflating: __MACOSX/._000159.jpg   \n",
            "  inflating: 000160.jpg              \n",
            "  inflating: __MACOSX/._000160.jpg   \n",
            "  inflating: 000160.txt              \n",
            "  inflating: __MACOSX/._000160.txt   \n",
            "  inflating: 000161.jpg              \n",
            "  inflating: __MACOSX/._000161.jpg   \n",
            "  inflating: 000162.jpg              \n",
            "  inflating: __MACOSX/._000162.jpg   \n",
            "  inflating: 000162.txt              \n",
            "  inflating: __MACOSX/._000162.txt   \n",
            "  inflating: 000163.jpg              \n",
            "  inflating: __MACOSX/._000163.jpg   \n",
            "  inflating: 000164.jpg              \n",
            "  inflating: __MACOSX/._000164.jpg   \n",
            "  inflating: 000164.txt              \n",
            "  inflating: __MACOSX/._000164.txt   \n",
            "  inflating: 000165.jpg              \n",
            "  inflating: __MACOSX/._000165.jpg   \n",
            "  inflating: 000166.jpg              \n",
            "  inflating: __MACOSX/._000166.jpg   \n",
            "  inflating: 000166.txt              \n",
            "  inflating: __MACOSX/._000166.txt   \n",
            "  inflating: 000167.jpg              \n",
            "  inflating: __MACOSX/._000167.jpg   \n",
            "  inflating: 000168.jpg              \n",
            "  inflating: __MACOSX/._000168.jpg   \n",
            "  inflating: 000169.jpg              \n",
            "  inflating: __MACOSX/._000169.jpg   \n",
            "  inflating: 000170.jpg              \n",
            "  inflating: __MACOSX/._000170.jpg   \n",
            "  inflating: 000171.jpg              \n",
            "  inflating: __MACOSX/._000171.jpg   \n",
            "  inflating: 000172.jpg              \n",
            "  inflating: __MACOSX/._000172.jpg   \n",
            "  inflating: 000172.txt              \n",
            "  inflating: __MACOSX/._000172.txt   \n",
            "  inflating: 000173.jpg              \n",
            "  inflating: __MACOSX/._000173.jpg   \n",
            "  inflating: 000173.txt              \n",
            "  inflating: __MACOSX/._000173.txt   \n",
            "  inflating: 000174.jpg              \n",
            "  inflating: __MACOSX/._000174.jpg   \n",
            "  inflating: 000174.txt              \n",
            "  inflating: __MACOSX/._000174.txt   \n",
            "  inflating: 000175.jpg              \n",
            "  inflating: __MACOSX/._000175.jpg   \n",
            "  inflating: 000176.jpg              \n",
            "  inflating: __MACOSX/._000176.jpg   \n",
            "  inflating: 000176.txt              \n",
            "  inflating: __MACOSX/._000176.txt   \n",
            "  inflating: 000177.jpg              \n",
            "  inflating: __MACOSX/._000177.jpg   \n",
            "  inflating: 000177.txt              \n",
            "  inflating: __MACOSX/._000177.txt   \n",
            "  inflating: 000178.jpg              \n",
            "  inflating: __MACOSX/._000178.jpg   \n",
            "  inflating: 000178.txt              \n",
            "  inflating: __MACOSX/._000178.txt   \n",
            "  inflating: 000179.jpg              \n",
            "  inflating: __MACOSX/._000179.jpg   \n",
            "  inflating: 000179.txt              \n",
            "  inflating: __MACOSX/._000179.txt   \n",
            "  inflating: 000180.jpg              \n",
            "  inflating: __MACOSX/._000180.jpg   \n",
            "  inflating: 000181.jpg              \n",
            "  inflating: __MACOSX/._000181.jpg   \n",
            "  inflating: 000182.jpg              \n",
            "  inflating: __MACOSX/._000182.jpg   \n",
            "  inflating: 000183.jpg              \n",
            "  inflating: __MACOSX/._000183.jpg   \n",
            "  inflating: 000183.txt              \n",
            "  inflating: __MACOSX/._000183.txt   \n",
            "  inflating: 000184.jpg              \n",
            "  inflating: __MACOSX/._000184.jpg   \n",
            "  inflating: 000184.txt              \n",
            "  inflating: __MACOSX/._000184.txt   \n",
            "  inflating: 000185.jpg              \n",
            "  inflating: __MACOSX/._000185.jpg   \n",
            "  inflating: 000186.jpg              \n",
            "  inflating: __MACOSX/._000186.jpg   \n",
            "  inflating: 000186.txt              \n",
            "  inflating: __MACOSX/._000186.txt   \n",
            "  inflating: 000187.jpg              \n",
            "  inflating: __MACOSX/._000187.jpg   \n",
            "  inflating: 000188.jpg              \n",
            "  inflating: __MACOSX/._000188.jpg   \n",
            "  inflating: 000188.txt              \n",
            "  inflating: __MACOSX/._000188.txt   \n",
            "  inflating: 000189.jpg              \n",
            "  inflating: __MACOSX/._000189.jpg   \n",
            "  inflating: 000190.jpg              \n",
            "  inflating: __MACOSX/._000190.jpg   \n",
            "  inflating: 000191.jpg              \n",
            "  inflating: __MACOSX/._000191.jpg   \n",
            "  inflating: 000192.jpg              \n",
            "  inflating: __MACOSX/._000192.jpg   \n",
            "  inflating: 000192.txt              \n",
            "  inflating: __MACOSX/._000192.txt   \n",
            "  inflating: 000193.jpg              \n",
            "  inflating: __MACOSX/._000193.jpg   \n",
            "  inflating: 000194.jpg              \n",
            "  inflating: __MACOSX/._000194.jpg   \n",
            "  inflating: 000195.jpg              \n",
            "  inflating: __MACOSX/._000195.jpg   \n",
            "  inflating: 000196.jpg              \n",
            "  inflating: __MACOSX/._000196.jpg   \n",
            "  inflating: 000196.txt              \n",
            "  inflating: __MACOSX/._000196.txt   \n",
            "  inflating: 000197.jpg              \n",
            "  inflating: __MACOSX/._000197.jpg   \n",
            "  inflating: 000197.txt              \n",
            "  inflating: __MACOSX/._000197.txt   \n",
            "  inflating: 000198.jpg              \n",
            "  inflating: __MACOSX/._000198.jpg   \n",
            "  inflating: 000199.jpg              \n",
            "  inflating: __MACOSX/._000199.jpg   \n",
            "  inflating: 000200.jpg              \n",
            "  inflating: __MACOSX/._000200.jpg   \n",
            "  inflating: 000201.jpg              \n",
            "  inflating: __MACOSX/._000201.jpg   \n",
            "  inflating: 000201.txt              \n",
            "  inflating: __MACOSX/._000201.txt   \n",
            "  inflating: 000202.jpg              \n",
            "  inflating: __MACOSX/._000202.jpg   \n",
            "  inflating: 000202.txt              \n",
            "  inflating: __MACOSX/._000202.txt   \n",
            "  inflating: 000203.jpg              \n",
            "  inflating: __MACOSX/._000203.jpg   \n",
            "  inflating: 000203.txt              \n",
            "  inflating: __MACOSX/._000203.txt   \n",
            "  inflating: 000204.jpg              \n",
            "  inflating: __MACOSX/._000204.jpg   \n",
            "  inflating: 000204.txt              \n",
            "  inflating: __MACOSX/._000204.txt   \n",
            "  inflating: 000205.jpg              \n",
            "  inflating: __MACOSX/._000205.jpg   \n",
            "  inflating: 000206.jpg              \n",
            "  inflating: __MACOSX/._000206.jpg   \n",
            "  inflating: 000206.txt              \n",
            "  inflating: __MACOSX/._000206.txt   \n",
            "  inflating: 000207.jpg              \n",
            "  inflating: __MACOSX/._000207.jpg   \n",
            "  inflating: 000208.jpg              \n",
            "  inflating: __MACOSX/._000208.jpg   \n",
            "  inflating: 000208.txt              \n",
            "  inflating: __MACOSX/._000208.txt   \n",
            "  inflating: 000209.jpg              \n",
            "  inflating: __MACOSX/._000209.jpg   \n",
            "  inflating: 000210.jpg              \n",
            "  inflating: __MACOSX/._000210.jpg   \n",
            "  inflating: 000210.txt              \n",
            "  inflating: __MACOSX/._000210.txt   \n",
            "  inflating: 000211.jpg              \n",
            "  inflating: __MACOSX/._000211.jpg   \n",
            "  inflating: 000211.txt              \n",
            "  inflating: __MACOSX/._000211.txt   \n",
            "  inflating: 000212.jpg              \n",
            "  inflating: __MACOSX/._000212.jpg   \n",
            "  inflating: 000213.jpg              \n",
            "  inflating: __MACOSX/._000213.jpg   \n",
            "  inflating: 000213.txt              \n",
            "  inflating: __MACOSX/._000213.txt   \n",
            "  inflating: 000214.jpg              \n",
            "  inflating: __MACOSX/._000214.jpg   \n",
            "  inflating: 000215.jpg              \n",
            "  inflating: __MACOSX/._000215.jpg   \n",
            "  inflating: 000216.jpg              \n",
            "  inflating: __MACOSX/._000216.jpg   \n",
            "  inflating: 000216.txt              \n",
            "  inflating: __MACOSX/._000216.txt   \n",
            "  inflating: 000217.jpg              \n",
            "  inflating: __MACOSX/._000217.jpg   \n",
            "  inflating: 000218.jpg              \n",
            "  inflating: __MACOSX/._000218.jpg   \n",
            "  inflating: 000219.jpg              \n",
            "  inflating: __MACOSX/._000219.jpg   \n",
            "  inflating: 000219.txt              \n",
            "  inflating: __MACOSX/._000219.txt   \n",
            "  inflating: 000220.jpg              \n",
            "  inflating: __MACOSX/._000220.jpg   \n",
            "  inflating: 000221.jpg              \n",
            "  inflating: __MACOSX/._000221.jpg   \n",
            "  inflating: 000222.jpg              \n",
            "  inflating: __MACOSX/._000222.jpg   \n",
            "  inflating: 000223.jpg              \n",
            "  inflating: __MACOSX/._000223.jpg   \n",
            "  inflating: 000224.jpg              \n",
            "  inflating: __MACOSX/._000224.jpg   \n",
            "  inflating: 000225.jpg              \n",
            "  inflating: __MACOSX/._000225.jpg   \n",
            "  inflating: 000226.jpg              \n",
            "  inflating: __MACOSX/._000226.jpg   \n",
            "  inflating: 000227.jpg              \n",
            "  inflating: __MACOSX/._000227.jpg   \n",
            "  inflating: 000228.jpg              \n",
            "  inflating: __MACOSX/._000228.jpg   \n",
            "  inflating: 000228.txt              \n",
            "  inflating: __MACOSX/._000228.txt   \n",
            "  inflating: 000229.jpg              \n",
            "  inflating: __MACOSX/._000229.jpg   \n",
            "  inflating: 000230.jpg              \n",
            "  inflating: __MACOSX/._000230.jpg   \n",
            "  inflating: 000231.jpg              \n",
            "  inflating: __MACOSX/._000231.jpg   \n",
            "  inflating: 000232.jpg              \n",
            "  inflating: __MACOSX/._000232.jpg   \n",
            "  inflating: 000233.jpg              \n",
            "  inflating: __MACOSX/._000233.jpg   \n",
            "  inflating: 000234.jpg              \n",
            "  inflating: __MACOSX/._000234.jpg   \n",
            "  inflating: 000235.jpg              \n",
            "  inflating: __MACOSX/._000235.jpg   \n",
            "  inflating: 000235.txt              \n",
            "  inflating: __MACOSX/._000235.txt   \n",
            "  inflating: 000236.jpg              \n",
            "  inflating: __MACOSX/._000236.jpg   \n",
            "  inflating: 000237.jpg              \n",
            "  inflating: __MACOSX/._000237.jpg   \n",
            "  inflating: 000238.jpg              \n",
            "  inflating: __MACOSX/._000238.jpg   \n",
            "  inflating: 000239.jpg              \n",
            "  inflating: __MACOSX/._000239.jpg   \n",
            "  inflating: 000240.jpg              \n",
            "  inflating: __MACOSX/._000240.jpg   \n",
            "  inflating: 000240.txt              \n",
            "  inflating: __MACOSX/._000240.txt   \n",
            "  inflating: 000241.jpg              \n",
            "  inflating: __MACOSX/._000241.jpg   \n",
            "  inflating: 000241.txt              \n",
            "  inflating: __MACOSX/._000241.txt   \n",
            "  inflating: 000242.jpg              \n",
            "  inflating: __MACOSX/._000242.jpg   \n",
            "  inflating: 000242.txt              \n",
            "  inflating: __MACOSX/._000242.txt   \n",
            "  inflating: 000243.jpg              \n",
            "  inflating: __MACOSX/._000243.jpg   \n",
            "  inflating: 000244.jpg              \n",
            "  inflating: __MACOSX/._000244.jpg   \n",
            "  inflating: 000245.jpg              \n",
            "  inflating: __MACOSX/._000245.jpg   \n",
            "  inflating: 000245.txt              \n",
            "  inflating: __MACOSX/._000245.txt   \n",
            "  inflating: 000246.jpg              \n",
            "  inflating: __MACOSX/._000246.jpg   \n",
            "  inflating: 000246.txt              \n",
            "  inflating: __MACOSX/._000246.txt   \n",
            "  inflating: 000247.jpg              \n",
            "  inflating: __MACOSX/._000247.jpg   \n",
            "  inflating: 000247.txt              \n",
            "  inflating: __MACOSX/._000247.txt   \n",
            "  inflating: 000248.jpg              \n",
            "  inflating: __MACOSX/._000248.jpg   \n",
            "  inflating: 000248.txt              \n",
            "  inflating: __MACOSX/._000248.txt   \n",
            "  inflating: 000249.jpg              \n",
            "  inflating: __MACOSX/._000249.jpg   \n",
            "  inflating: 000249.txt              \n",
            "  inflating: __MACOSX/._000249.txt   \n",
            "  inflating: 000250.jpg              \n",
            "  inflating: __MACOSX/._000250.jpg   \n",
            "  inflating: 000251.jpg              \n",
            "  inflating: __MACOSX/._000251.jpg   \n",
            "  inflating: 000251.txt              \n",
            "  inflating: __MACOSX/._000251.txt   \n",
            "  inflating: 000252.jpg              \n",
            "  inflating: __MACOSX/._000252.jpg   \n",
            "  inflating: 000253.jpg              \n",
            "  inflating: __MACOSX/._000253.jpg   \n",
            "  inflating: 000254.jpg              \n",
            "  inflating: __MACOSX/._000254.jpg   \n",
            "  inflating: 000255.jpg              \n",
            "  inflating: __MACOSX/._000255.jpg   \n",
            "  inflating: 000255.txt              \n",
            "  inflating: __MACOSX/._000255.txt   \n",
            "  inflating: 000256.jpg              \n",
            "  inflating: __MACOSX/._000256.jpg   \n",
            "  inflating: 000257.jpg              \n",
            "  inflating: __MACOSX/._000257.jpg   \n",
            "  inflating: 000257.txt              \n",
            "  inflating: __MACOSX/._000257.txt   \n",
            "  inflating: 000258.jpg              \n",
            "  inflating: __MACOSX/._000258.jpg   \n",
            "  inflating: 000259.jpg              \n",
            "  inflating: __MACOSX/._000259.jpg   \n",
            "  inflating: 000260.jpg              \n",
            "  inflating: __MACOSX/._000260.jpg   \n",
            "  inflating: 000261.jpg              \n",
            "  inflating: __MACOSX/._000261.jpg   \n",
            "  inflating: 000262.jpg              \n",
            "  inflating: __MACOSX/._000262.jpg   \n",
            "  inflating: 000263.jpg              \n",
            "  inflating: __MACOSX/._000263.jpg   \n",
            "  inflating: 000263.txt              \n",
            "  inflating: __MACOSX/._000263.txt   \n",
            "  inflating: 000264.jpg              \n",
            "  inflating: __MACOSX/._000264.jpg   \n",
            "  inflating: 000264.txt              \n",
            "  inflating: __MACOSX/._000264.txt   \n",
            "  inflating: 000265.jpg              \n",
            "  inflating: __MACOSX/._000265.jpg   \n",
            "  inflating: 000265.txt              \n",
            "  inflating: __MACOSX/._000265.txt   \n",
            "  inflating: 000266.jpg              \n",
            "  inflating: __MACOSX/._000266.jpg   \n",
            "  inflating: 000266.txt              \n",
            "  inflating: __MACOSX/._000266.txt   \n",
            "  inflating: 000267.jpg              \n",
            "  inflating: __MACOSX/._000267.jpg   \n",
            "  inflating: 000267.txt              \n",
            "  inflating: __MACOSX/._000267.txt   \n",
            "  inflating: 000268.jpg              \n",
            "  inflating: __MACOSX/._000268.jpg   \n",
            "  inflating: 000269.jpg              \n",
            "  inflating: __MACOSX/._000269.jpg   \n",
            "  inflating: 000270.jpg              \n",
            "  inflating: __MACOSX/._000270.jpg   \n",
            "  inflating: 000271.jpg              \n",
            "  inflating: __MACOSX/._000271.jpg   \n",
            "  inflating: 000272.jpg              \n",
            "  inflating: __MACOSX/._000272.jpg   \n",
            "  inflating: 000273.jpg              \n",
            "  inflating: __MACOSX/._000273.jpg   \n",
            "  inflating: 000274.jpg              \n",
            "  inflating: __MACOSX/._000274.jpg   \n",
            "  inflating: 000275.jpg              \n",
            "  inflating: __MACOSX/._000275.jpg   \n",
            "  inflating: 000276.jpg              \n",
            "  inflating: __MACOSX/._000276.jpg   \n",
            "  inflating: 000277.jpg              \n",
            "  inflating: __MACOSX/._000277.jpg   \n",
            "  inflating: 000277.txt              \n",
            "  inflating: __MACOSX/._000277.txt   \n",
            "  inflating: 000278.jpg              \n",
            "  inflating: __MACOSX/._000278.jpg   \n",
            "  inflating: 000279.jpg              \n",
            "  inflating: __MACOSX/._000279.jpg   \n",
            "  inflating: 000280.jpg              \n",
            "  inflating: __MACOSX/._000280.jpg   \n",
            "  inflating: 000281.jpg              \n",
            "  inflating: __MACOSX/._000281.jpg   \n",
            "  inflating: 000282.jpg              \n",
            "  inflating: __MACOSX/._000282.jpg   \n",
            "  inflating: 000282.txt              \n",
            "  inflating: __MACOSX/._000282.txt   \n",
            "  inflating: 000283.jpg              \n",
            "  inflating: __MACOSX/._000283.jpg   \n",
            "  inflating: 000284.jpg              \n",
            "  inflating: __MACOSX/._000284.jpg   \n",
            "  inflating: 000285.jpg              \n",
            "  inflating: __MACOSX/._000285.jpg   \n",
            "  inflating: 000286.jpg              \n",
            "  inflating: __MACOSX/._000286.jpg   \n",
            "  inflating: 000286.txt              \n",
            "  inflating: __MACOSX/._000286.txt   \n",
            "  inflating: 000287.jpg              \n",
            "  inflating: __MACOSX/._000287.jpg   \n",
            "  inflating: 000288.jpg              \n",
            "  inflating: __MACOSX/._000288.jpg   \n",
            "  inflating: 000288.txt              \n",
            "  inflating: __MACOSX/._000288.txt   \n",
            "  inflating: 000289.jpg              \n",
            "  inflating: __MACOSX/._000289.jpg   \n",
            "  inflating: 000289.txt              \n",
            "  inflating: __MACOSX/._000289.txt   \n",
            "  inflating: 000290.jpg              \n",
            "  inflating: __MACOSX/._000290.jpg   \n",
            "  inflating: 000291.jpg              \n",
            "  inflating: __MACOSX/._000291.jpg   \n",
            "  inflating: 000292.jpg              \n",
            "  inflating: __MACOSX/._000292.jpg   \n",
            "  inflating: 000292.txt              \n",
            "  inflating: __MACOSX/._000292.txt   \n",
            "  inflating: 000293.jpg              \n",
            "  inflating: __MACOSX/._000293.jpg   \n",
            "  inflating: 000294.jpg              \n",
            "  inflating: __MACOSX/._000294.jpg   \n",
            "  inflating: 000295.jpg              \n",
            "  inflating: __MACOSX/._000295.jpg   \n",
            "  inflating: 000295.txt              \n",
            "  inflating: __MACOSX/._000295.txt   \n",
            "  inflating: 000296.jpg              \n",
            "  inflating: __MACOSX/._000296.jpg   \n",
            "  inflating: 000297.jpg              \n",
            "  inflating: __MACOSX/._000297.jpg   \n",
            "  inflating: 000298.jpg              \n",
            "  inflating: __MACOSX/._000298.jpg   \n",
            "  inflating: 000299.jpg              \n",
            "  inflating: __MACOSX/._000299.jpg   \n",
            "  inflating: 000299.txt              \n",
            "  inflating: __MACOSX/._000299.txt   \n",
            "  inflating: 000300.jpg              \n",
            "  inflating: __MACOSX/._000300.jpg   \n",
            "  inflating: 000301.jpg              \n",
            "  inflating: __MACOSX/._000301.jpg   \n",
            "  inflating: 000301.txt              \n",
            "  inflating: __MACOSX/._000301.txt   \n",
            "  inflating: 000302.jpg              \n",
            "  inflating: __MACOSX/._000302.jpg   \n",
            "  inflating: 000302.txt              \n",
            "  inflating: __MACOSX/._000302.txt   \n",
            "  inflating: 000303.jpg              \n",
            "  inflating: __MACOSX/._000303.jpg   \n",
            "  inflating: 000304.jpg              \n",
            "  inflating: __MACOSX/._000304.jpg   \n",
            "  inflating: 000305.jpg              \n",
            "  inflating: __MACOSX/._000305.jpg   \n",
            "  inflating: 000306.jpg              \n",
            "  inflating: __MACOSX/._000306.jpg   \n",
            "  inflating: 000306.txt              \n",
            "  inflating: __MACOSX/._000306.txt   \n",
            "  inflating: 000307.jpg              \n",
            "  inflating: __MACOSX/._000307.jpg   \n",
            "  inflating: 000307.txt              \n",
            "  inflating: __MACOSX/._000307.txt   \n",
            "  inflating: 000308.jpg              \n",
            "  inflating: __MACOSX/._000308.jpg   \n",
            "  inflating: 000308.txt              \n",
            "  inflating: __MACOSX/._000308.txt   \n",
            "  inflating: 000309.jpg              \n",
            "  inflating: __MACOSX/._000309.jpg   \n",
            "  inflating: 000309.txt              \n",
            "  inflating: __MACOSX/._000309.txt   \n",
            "  inflating: 000310.jpg              \n",
            "  inflating: __MACOSX/._000310.jpg   \n",
            "  inflating: 000311.jpg              \n",
            "  inflating: __MACOSX/._000311.jpg   \n",
            "  inflating: 000312.jpg              \n",
            "  inflating: __MACOSX/._000312.jpg   \n",
            "  inflating: 000312.txt              \n",
            "  inflating: __MACOSX/._000312.txt   \n",
            "  inflating: 000313.jpg              \n",
            "  inflating: __MACOSX/._000313.jpg   \n",
            "  inflating: 000314.jpg              \n",
            "  inflating: __MACOSX/._000314.jpg   \n",
            "  inflating: 000314.txt              \n",
            "  inflating: __MACOSX/._000314.txt   \n",
            "  inflating: 000315.jpg              \n",
            "  inflating: __MACOSX/._000315.jpg   \n",
            "  inflating: 000316.jpg              \n",
            "  inflating: __MACOSX/._000316.jpg   \n",
            "  inflating: 000316.txt              \n",
            "  inflating: __MACOSX/._000316.txt   \n",
            "  inflating: 000317.jpg              \n",
            "  inflating: __MACOSX/._000317.jpg   \n",
            "  inflating: 000318.jpg              \n",
            "  inflating: __MACOSX/._000318.jpg   \n",
            "  inflating: 000318.txt              \n",
            "  inflating: __MACOSX/._000318.txt   \n",
            "  inflating: 000319.jpg              \n",
            "  inflating: __MACOSX/._000319.jpg   \n",
            "  inflating: 000319.txt              \n",
            "  inflating: __MACOSX/._000319.txt   \n",
            "  inflating: 000320.jpg              \n",
            "  inflating: __MACOSX/._000320.jpg   \n",
            "  inflating: 000321.jpg              \n",
            "  inflating: __MACOSX/._000321.jpg   \n",
            "  inflating: 000321.txt              \n",
            "  inflating: __MACOSX/._000321.txt   \n",
            "  inflating: 000322.jpg              \n",
            "  inflating: __MACOSX/._000322.jpg   \n",
            "  inflating: 000323.jpg              \n",
            "  inflating: __MACOSX/._000323.jpg   \n",
            "  inflating: 000324.jpg              \n",
            "  inflating: __MACOSX/._000324.jpg   \n",
            "  inflating: 000324.txt              \n",
            "  inflating: __MACOSX/._000324.txt   \n",
            "  inflating: 000325.jpg              \n",
            "  inflating: __MACOSX/._000325.jpg   \n",
            "  inflating: 000326.jpg              \n",
            "  inflating: __MACOSX/._000326.jpg   \n",
            "  inflating: 000326.txt              \n",
            "  inflating: __MACOSX/._000326.txt   \n",
            "  inflating: 000327.jpg              \n",
            "  inflating: __MACOSX/._000327.jpg   \n",
            "  inflating: 000328.jpg              \n",
            "  inflating: __MACOSX/._000328.jpg   \n",
            "  inflating: 000329.jpg              \n",
            "  inflating: __MACOSX/._000329.jpg   \n",
            "  inflating: 000330.jpg              \n",
            "  inflating: __MACOSX/._000330.jpg   \n",
            "  inflating: 000330.txt              \n",
            "  inflating: __MACOSX/._000330.txt   \n",
            "  inflating: 000331.jpg              \n",
            "  inflating: __MACOSX/._000331.jpg   \n",
            "  inflating: 000332.jpg              \n",
            "  inflating: __MACOSX/._000332.jpg   \n",
            "  inflating: 000333.jpg              \n",
            "  inflating: __MACOSX/._000333.jpg   \n",
            "  inflating: 000333.txt              \n",
            "  inflating: __MACOSX/._000333.txt   \n",
            "  inflating: 000334.jpg              \n",
            "  inflating: __MACOSX/._000334.jpg   \n",
            "  inflating: 000334.txt              \n",
            "  inflating: __MACOSX/._000334.txt   \n",
            "  inflating: 000335.jpg              \n",
            "  inflating: __MACOSX/._000335.jpg   \n",
            "  inflating: 000336.jpg              \n",
            "  inflating: __MACOSX/._000336.jpg   \n",
            "  inflating: 000337.jpg              \n",
            "  inflating: __MACOSX/._000337.jpg   \n",
            "  inflating: 000338.jpg              \n",
            "  inflating: __MACOSX/._000338.jpg   \n",
            "  inflating: 000338.txt              \n",
            "  inflating: __MACOSX/._000338.txt   \n",
            "  inflating: 000339.jpg              \n",
            "  inflating: __MACOSX/._000339.jpg   \n",
            "  inflating: 000339.txt              \n",
            "  inflating: __MACOSX/._000339.txt   \n",
            "  inflating: 000340.jpg              \n",
            "  inflating: __MACOSX/._000340.jpg   \n",
            "  inflating: 000341.jpg              \n",
            "  inflating: __MACOSX/._000341.jpg   \n",
            "  inflating: 000341.txt              \n",
            "  inflating: __MACOSX/._000341.txt   \n",
            "  inflating: 000342.jpg              \n",
            "  inflating: __MACOSX/._000342.jpg   \n",
            "  inflating: 000343.jpg              \n",
            "  inflating: __MACOSX/._000343.jpg   \n",
            "  inflating: 000343.txt              \n",
            "  inflating: __MACOSX/._000343.txt   \n",
            "  inflating: 000344.jpg              \n",
            "  inflating: __MACOSX/._000344.jpg   \n",
            "  inflating: 000344.txt              \n",
            "  inflating: __MACOSX/._000344.txt   \n",
            "  inflating: 000345.jpg              \n",
            "  inflating: __MACOSX/._000345.jpg   \n",
            "  inflating: 000346.jpg              \n",
            "  inflating: __MACOSX/._000346.jpg   \n",
            "  inflating: 000347.jpg              \n",
            "  inflating: __MACOSX/._000347.jpg   \n",
            "  inflating: 000347.txt              \n",
            "  inflating: __MACOSX/._000347.txt   \n",
            "  inflating: 000348.jpg              \n",
            "  inflating: __MACOSX/._000348.jpg   \n",
            "  inflating: 000349.jpg              \n",
            "  inflating: __MACOSX/._000349.jpg   \n",
            "  inflating: 000350.jpg              \n",
            "  inflating: __MACOSX/._000350.jpg   \n",
            "  inflating: 000350.txt              \n",
            "  inflating: __MACOSX/._000350.txt   \n",
            "  inflating: 000351.jpg              \n",
            "  inflating: __MACOSX/._000351.jpg   \n",
            "  inflating: 000352.jpg              \n",
            "  inflating: __MACOSX/._000352.jpg   \n",
            "  inflating: 000352.txt              \n",
            "  inflating: __MACOSX/._000352.txt   \n",
            "  inflating: 000353.jpg              \n",
            "  inflating: __MACOSX/._000353.jpg   \n",
            "  inflating: 000354.jpg              \n",
            "  inflating: __MACOSX/._000354.jpg   \n",
            "  inflating: 000355.jpg              \n",
            "  inflating: __MACOSX/._000355.jpg   \n",
            "  inflating: 000356.jpg              \n",
            "  inflating: __MACOSX/._000356.jpg   \n",
            "  inflating: 000356.txt              \n",
            "  inflating: __MACOSX/._000356.txt   \n",
            "  inflating: 000357.jpg              \n",
            "  inflating: __MACOSX/._000357.jpg   \n",
            "  inflating: 000357.txt              \n",
            "  inflating: __MACOSX/._000357.txt   \n",
            "  inflating: 000358.jpg              \n",
            "  inflating: __MACOSX/._000358.jpg   \n",
            "  inflating: 000359.jpg              \n",
            "  inflating: __MACOSX/._000359.jpg   \n",
            "  inflating: 000360.jpg              \n",
            "  inflating: __MACOSX/._000360.jpg   \n",
            "  inflating: 000360.txt              \n",
            "  inflating: __MACOSX/._000360.txt   \n",
            "  inflating: 000361.jpg              \n",
            "  inflating: __MACOSX/._000361.jpg   \n",
            "  inflating: 000362.jpg              \n",
            "  inflating: __MACOSX/._000362.jpg   \n",
            "  inflating: 000363.jpg              \n",
            "  inflating: __MACOSX/._000363.jpg   \n",
            "  inflating: 000363.txt              \n",
            "  inflating: __MACOSX/._000363.txt   \n",
            "  inflating: 000364.jpg              \n",
            "  inflating: __MACOSX/._000364.jpg   \n",
            "  inflating: 000365.jpg              \n",
            "  inflating: __MACOSX/._000365.jpg   \n",
            "  inflating: 000366.jpg              \n",
            "  inflating: __MACOSX/._000366.jpg   \n",
            "  inflating: 000366.txt              \n",
            "  inflating: __MACOSX/._000366.txt   \n",
            "  inflating: 000367.jpg              \n",
            "  inflating: __MACOSX/._000367.jpg   \n",
            "  inflating: 000368.jpg              \n",
            "  inflating: __MACOSX/._000368.jpg   \n",
            "  inflating: 000368.txt              \n",
            "  inflating: __MACOSX/._000368.txt   \n",
            "  inflating: 000369.jpg              \n",
            "  inflating: __MACOSX/._000369.jpg   \n",
            "  inflating: 000370.jpg              \n",
            "  inflating: __MACOSX/._000370.jpg   \n",
            "  inflating: 000370.txt              \n",
            "  inflating: __MACOSX/._000370.txt   \n",
            "  inflating: 000371.jpg              \n",
            "  inflating: __MACOSX/._000371.jpg   \n",
            "  inflating: 000372.jpg              \n",
            "  inflating: __MACOSX/._000372.jpg   \n",
            "  inflating: 000373.jpg              \n",
            "  inflating: __MACOSX/._000373.jpg   \n",
            "  inflating: 000374.jpg              \n",
            "  inflating: __MACOSX/._000374.jpg   \n",
            "  inflating: 000375.jpg              \n",
            "  inflating: __MACOSX/._000375.jpg   \n",
            "  inflating: 000375.txt              \n",
            "  inflating: __MACOSX/._000375.txt   \n",
            "  inflating: 000376.jpg              \n",
            "  inflating: __MACOSX/._000376.jpg   \n",
            "  inflating: 000377.jpg              \n",
            "  inflating: __MACOSX/._000377.jpg   \n",
            "  inflating: 000377.txt              \n",
            "  inflating: __MACOSX/._000377.txt   \n",
            "  inflating: 000378.jpg              \n",
            "  inflating: __MACOSX/._000378.jpg   \n",
            "  inflating: 000379.jpg              \n",
            "  inflating: __MACOSX/._000379.jpg   \n",
            "  inflating: 000380.jpg              \n",
            "  inflating: __MACOSX/._000380.jpg   \n",
            "  inflating: 000380.txt              \n",
            "  inflating: __MACOSX/._000380.txt   \n",
            "  inflating: 000381.jpg              \n",
            "  inflating: __MACOSX/._000381.jpg   \n",
            "  inflating: 000381.txt              \n",
            "  inflating: __MACOSX/._000381.txt   \n",
            "  inflating: 000382.jpg              \n",
            "  inflating: __MACOSX/._000382.jpg   \n",
            "  inflating: 000383.jpg              \n",
            "  inflating: __MACOSX/._000383.jpg   \n",
            "  inflating: 000384.jpg              \n",
            "  inflating: __MACOSX/._000384.jpg   \n",
            "  inflating: 000385.jpg              \n",
            "  inflating: __MACOSX/._000385.jpg   \n",
            "  inflating: 000385.txt              \n",
            "  inflating: __MACOSX/._000385.txt   \n",
            "  inflating: 000386.jpg              \n",
            "  inflating: __MACOSX/._000386.jpg   \n",
            "  inflating: 000386.txt              \n",
            "  inflating: __MACOSX/._000386.txt   \n",
            "  inflating: 000387.jpg              \n",
            "  inflating: __MACOSX/._000387.jpg   \n",
            "  inflating: 000387.txt              \n",
            "  inflating: __MACOSX/._000387.txt   \n",
            "  inflating: 000388.jpg              \n",
            "  inflating: __MACOSX/._000388.jpg   \n",
            "  inflating: 000389.jpg              \n",
            "  inflating: __MACOSX/._000389.jpg   \n",
            "  inflating: 000389.txt              \n",
            "  inflating: __MACOSX/._000389.txt   \n",
            "  inflating: 000390.jpg              \n",
            "  inflating: __MACOSX/._000390.jpg   \n",
            "  inflating: 000391.jpg              \n",
            "  inflating: __MACOSX/._000391.jpg   \n",
            "  inflating: 000392.jpg              \n",
            "  inflating: __MACOSX/._000392.jpg   \n",
            "  inflating: 000392.txt              \n",
            "  inflating: __MACOSX/._000392.txt   \n",
            "  inflating: 000393.jpg              \n",
            "  inflating: __MACOSX/._000393.jpg   \n",
            "  inflating: 000393.txt              \n",
            "  inflating: __MACOSX/._000393.txt   \n",
            "  inflating: 000394.jpg              \n",
            "  inflating: __MACOSX/._000394.jpg   \n",
            "  inflating: 000394.txt              \n",
            "  inflating: __MACOSX/._000394.txt   \n",
            "  inflating: 000395.jpg              \n",
            "  inflating: __MACOSX/._000395.jpg   \n",
            "  inflating: 000395.txt              \n",
            "  inflating: __MACOSX/._000395.txt   \n",
            "  inflating: 000396.jpg              \n",
            "  inflating: __MACOSX/._000396.jpg   \n",
            "  inflating: 000396.txt              \n",
            "  inflating: __MACOSX/._000396.txt   \n",
            "  inflating: 000397.jpg              \n",
            "  inflating: __MACOSX/._000397.jpg   \n",
            "  inflating: 000398.jpg              \n",
            "  inflating: __MACOSX/._000398.jpg   \n",
            "  inflating: 000398.txt              \n",
            "  inflating: __MACOSX/._000398.txt   \n",
            "  inflating: 000399.jpg              \n",
            "  inflating: __MACOSX/._000399.jpg   \n",
            "  inflating: 000400.jpg              \n",
            "  inflating: __MACOSX/._000400.jpg   \n",
            "  inflating: 000400.txt              \n",
            "  inflating: __MACOSX/._000400.txt   \n",
            "  inflating: 000401.jpg              \n",
            "  inflating: __MACOSX/._000401.jpg   \n",
            "  inflating: 000401.txt              \n",
            "  inflating: __MACOSX/._000401.txt   \n",
            "  inflating: 000402.jpg              \n",
            "  inflating: __MACOSX/._000402.jpg   \n",
            "  inflating: 000403.jpg              \n",
            "  inflating: __MACOSX/._000403.jpg   \n",
            "  inflating: 000403.txt              \n",
            "  inflating: __MACOSX/._000403.txt   \n",
            "  inflating: 000404.jpg              \n",
            "  inflating: __MACOSX/._000404.jpg   \n",
            "  inflating: 000404.txt              \n",
            "  inflating: __MACOSX/._000404.txt   \n",
            "  inflating: 000405.jpg              \n",
            "  inflating: __MACOSX/._000405.jpg   \n",
            "  inflating: 000406.jpg              \n",
            "  inflating: __MACOSX/._000406.jpg   \n",
            "  inflating: 000407.jpg              \n",
            "  inflating: __MACOSX/._000407.jpg   \n",
            "  inflating: 000408.jpg              \n",
            "  inflating: __MACOSX/._000408.jpg   \n",
            "  inflating: 000408.txt              \n",
            "  inflating: __MACOSX/._000408.txt   \n",
            "  inflating: 000409.jpg              \n",
            "  inflating: __MACOSX/._000409.jpg   \n",
            "  inflating: 000409.txt              \n",
            "  inflating: __MACOSX/._000409.txt   \n",
            "  inflating: 000410.jpg              \n",
            "  inflating: __MACOSX/._000410.jpg   \n",
            "  inflating: 000411.jpg              \n",
            "  inflating: __MACOSX/._000411.jpg   \n",
            "  inflating: 000411.txt              \n",
            "  inflating: __MACOSX/._000411.txt   \n",
            "  inflating: 000412.jpg              \n",
            "  inflating: __MACOSX/._000412.jpg   \n",
            "  inflating: 000412.txt              \n",
            "  inflating: __MACOSX/._000412.txt   \n",
            "  inflating: 000413.jpg              \n",
            "  inflating: __MACOSX/._000413.jpg   \n",
            "  inflating: 000414.jpg              \n",
            "  inflating: __MACOSX/._000414.jpg   \n",
            "  inflating: 000415.jpg              \n",
            "  inflating: __MACOSX/._000415.jpg   \n",
            "  inflating: 000415.txt              \n",
            "  inflating: __MACOSX/._000415.txt   \n",
            "  inflating: 000416.jpg              \n",
            "  inflating: __MACOSX/._000416.jpg   \n",
            "  inflating: 000417.jpg              \n",
            "  inflating: __MACOSX/._000417.jpg   \n",
            "  inflating: 000417.txt              \n",
            "  inflating: __MACOSX/._000417.txt   \n",
            "  inflating: 000418.jpg              \n",
            "  inflating: __MACOSX/._000418.jpg   \n",
            "  inflating: 000418.txt              \n",
            "  inflating: __MACOSX/._000418.txt   \n",
            "  inflating: 000419.jpg              \n",
            "  inflating: __MACOSX/._000419.jpg   \n",
            "  inflating: 000420.jpg              \n",
            "  inflating: __MACOSX/._000420.jpg   \n",
            "  inflating: 000420.txt              \n",
            "  inflating: __MACOSX/._000420.txt   \n",
            "  inflating: 000421.jpg              \n",
            "  inflating: __MACOSX/._000421.jpg   \n",
            "  inflating: 000421.txt              \n",
            "  inflating: __MACOSX/._000421.txt   \n",
            "  inflating: 000422.jpg              \n",
            "  inflating: __MACOSX/._000422.jpg   \n",
            "  inflating: 000423.jpg              \n",
            "  inflating: __MACOSX/._000423.jpg   \n",
            "  inflating: 000424.jpg              \n",
            "  inflating: __MACOSX/._000424.jpg   \n",
            "  inflating: 000425.jpg              \n",
            "  inflating: __MACOSX/._000425.jpg   \n",
            "  inflating: 000426.jpg              \n",
            "  inflating: __MACOSX/._000426.jpg   \n",
            "  inflating: 000427.jpg              \n",
            "  inflating: __MACOSX/._000427.jpg   \n",
            "  inflating: 000428.jpg              \n",
            "  inflating: __MACOSX/._000428.jpg   \n",
            "  inflating: 000429.jpg              \n",
            "  inflating: __MACOSX/._000429.jpg   \n",
            "  inflating: 000430.jpg              \n",
            "  inflating: __MACOSX/._000430.jpg   \n",
            "  inflating: 000431.jpg              \n",
            "  inflating: __MACOSX/._000431.jpg   \n",
            "  inflating: 000431.txt              \n",
            "  inflating: __MACOSX/._000431.txt   \n",
            "  inflating: 000432.jpg              \n",
            "  inflating: __MACOSX/._000432.jpg   \n",
            "  inflating: 000432.txt              \n",
            "  inflating: __MACOSX/._000432.txt   \n",
            "  inflating: 000433.jpg              \n",
            "  inflating: __MACOSX/._000433.jpg   \n",
            "  inflating: 000433.txt              \n",
            "  inflating: __MACOSX/._000433.txt   \n",
            "  inflating: 000434.jpg              \n",
            "  inflating: __MACOSX/._000434.jpg   \n",
            "  inflating: 000434.txt              \n",
            "  inflating: __MACOSX/._000434.txt   \n",
            "  inflating: 000435.jpg              \n",
            "  inflating: __MACOSX/._000435.jpg   \n",
            "  inflating: 000435.txt              \n",
            "  inflating: __MACOSX/._000435.txt   \n",
            "  inflating: 000436.jpg              \n",
            "  inflating: __MACOSX/._000436.jpg   \n",
            "  inflating: 000437.jpg              \n",
            "  inflating: __MACOSX/._000437.jpg   \n",
            "  inflating: 000438.jpg              \n",
            "  inflating: __MACOSX/._000438.jpg   \n",
            "  inflating: 000438.txt              \n",
            "  inflating: __MACOSX/._000438.txt   \n",
            "  inflating: 000439.jpg              \n",
            "  inflating: __MACOSX/._000439.jpg   \n",
            "  inflating: 000439.txt              \n",
            "  inflating: __MACOSX/._000439.txt   \n",
            "  inflating: 000440.jpg              \n",
            "  inflating: __MACOSX/._000440.jpg   \n",
            "  inflating: 000440.txt              \n",
            "  inflating: __MACOSX/._000440.txt   \n",
            "  inflating: 000441.jpg              \n",
            "  inflating: __MACOSX/._000441.jpg   \n",
            "  inflating: 000441.txt              \n",
            "  inflating: __MACOSX/._000441.txt   \n",
            "  inflating: 000442.jpg              \n",
            "  inflating: __MACOSX/._000442.jpg   \n",
            "  inflating: 000442.txt              \n",
            "  inflating: __MACOSX/._000442.txt   \n",
            "  inflating: 000443.jpg              \n",
            "  inflating: __MACOSX/._000443.jpg   \n",
            "  inflating: 000443.txt              \n",
            "  inflating: __MACOSX/._000443.txt   \n",
            "  inflating: 000444.jpg              \n",
            "  inflating: __MACOSX/._000444.jpg   \n",
            "  inflating: 000444.txt              \n",
            "  inflating: __MACOSX/._000444.txt   \n",
            "  inflating: 000445.jpg              \n",
            "  inflating: __MACOSX/._000445.jpg   \n",
            "  inflating: 000446.jpg              \n",
            "  inflating: __MACOSX/._000446.jpg   \n",
            "  inflating: 000446.txt              \n",
            "  inflating: __MACOSX/._000446.txt   \n",
            "  inflating: 000447.jpg              \n",
            "  inflating: __MACOSX/._000447.jpg   \n",
            "  inflating: 000448.jpg              \n",
            "  inflating: __MACOSX/._000448.jpg   \n",
            "  inflating: 000448.txt              \n",
            "  inflating: __MACOSX/._000448.txt   \n",
            "  inflating: 000449.jpg              \n",
            "  inflating: __MACOSX/._000449.jpg   \n",
            "  inflating: 000449.txt              \n",
            "  inflating: __MACOSX/._000449.txt   \n",
            "  inflating: 000450.jpg              \n",
            "  inflating: __MACOSX/._000450.jpg   \n",
            "  inflating: 000450.txt              \n",
            "  inflating: __MACOSX/._000450.txt   \n",
            "  inflating: 000451.jpg              \n",
            "  inflating: __MACOSX/._000451.jpg   \n",
            "  inflating: 000451.txt              \n",
            "  inflating: __MACOSX/._000451.txt   \n",
            "  inflating: 000452.jpg              \n",
            "  inflating: __MACOSX/._000452.jpg   \n",
            "  inflating: 000452.txt              \n",
            "  inflating: __MACOSX/._000452.txt   \n",
            "  inflating: 000453.jpg              \n",
            "  inflating: __MACOSX/._000453.jpg   \n",
            "  inflating: 000453.txt              \n",
            "  inflating: __MACOSX/._000453.txt   \n",
            "  inflating: 000454.jpg              \n",
            "  inflating: __MACOSX/._000454.jpg   \n",
            "  inflating: 000454.txt              \n",
            "  inflating: __MACOSX/._000454.txt   \n",
            "  inflating: 000455.jpg              \n",
            "  inflating: __MACOSX/._000455.jpg   \n",
            "  inflating: 000455.txt              \n",
            "  inflating: __MACOSX/._000455.txt   \n",
            "  inflating: 000456.jpg              \n",
            "  inflating: __MACOSX/._000456.jpg   \n",
            "  inflating: 000456.txt              \n",
            "  inflating: __MACOSX/._000456.txt   \n",
            "  inflating: 000457.jpg              \n",
            "  inflating: __MACOSX/._000457.jpg   \n",
            "  inflating: 000457.txt              \n",
            "  inflating: __MACOSX/._000457.txt   \n",
            "  inflating: 000458.jpg              \n",
            "  inflating: __MACOSX/._000458.jpg   \n",
            "  inflating: 000458.txt              \n",
            "  inflating: __MACOSX/._000458.txt   \n",
            "  inflating: classes.txt             \n",
            "  inflating: __MACOSX/._classes.txt  \n",
            "  inflating: fire000010.jpg          \n",
            "  inflating: __MACOSX/._fire000010.jpg  \n"
          ]
        }
      ]
    },
    {
      "cell_type": "code",
      "source": [
        "%cd /content/__MACOSX/\n",
        "!mkdir -p train/images train/labels\n",
        "!mv *.jpg train/images\n",
        "!mv *.txt train/labels"
      ],
      "metadata": {
        "colab": {
          "base_uri": "https://localhost:8080/"
        },
        "id": "v2qCszxL5pkj",
        "outputId": "005dd69d-c2e7-47e2-e962-01a45f099479"
      },
      "execution_count": null,
      "outputs": [
        {
          "output_type": "stream",
          "name": "stdout",
          "text": [
            "/content/__MACOSX\n"
          ]
        }
      ]
    },
    {
      "cell_type": "code",
      "source": [
        "from ultralytics import YOLO"
      ],
      "metadata": {
        "id": "N99710F25ruT"
      },
      "execution_count": null,
      "outputs": []
    },
    {
      "cell_type": "code",
      "source": [
        "model = YOLO('yolov8n.pt')"
      ],
      "metadata": {
        "colab": {
          "base_uri": "https://localhost:8080/"
        },
        "id": "gQ2DbYOq5txE",
        "outputId": "639cc831-4099-4cc2-db30-858c9e322100"
      },
      "execution_count": null,
      "outputs": [
        {
          "output_type": "stream",
          "name": "stdout",
          "text": [
            "Downloading https://github.com/ultralytics/assets/releases/download/v8.1.0/yolov8n.pt to 'yolov8n.pt'...\n"
          ]
        },
        {
          "output_type": "stream",
          "name": "stderr",
          "text": [
            "100%|██████████| 6.23M/6.23M [00:00<00:00, 69.2MB/s]\n"
          ]
        }
      ]
    },
    {
      "cell_type": "code",
      "source": [
        "results = model.train(data='/content/data.yaml', epochs=50, imgsz=800)"
      ],
      "metadata": {
        "colab": {
          "base_uri": "https://localhost:8080/"
        },
        "id": "bMy4RbMH5wAf",
        "outputId": "c4a904b1-e356-4970-b602-47cc71cd97a1"
      },
      "execution_count": null,
      "outputs": [
        {
          "output_type": "stream",
          "name": "stdout",
          "text": [
            "Ultralytics YOLOv8.1.2 🚀 Python-3.10.12 torch-2.1.0+cu121 CUDA:0 (Tesla T4, 15102MiB)\n",
            "\u001b[34m\u001b[1mengine/trainer: \u001b[0mtask=detect, mode=train, model=yolov8n.pt, data=/content/data.yaml, epochs=50, time=None, patience=50, batch=16, imgsz=800, save=True, save_period=-1, cache=False, device=None, workers=8, project=None, name=train, exist_ok=False, pretrained=True, optimizer=auto, verbose=True, seed=0, deterministic=True, single_cls=False, rect=False, cos_lr=False, close_mosaic=10, resume=False, amp=True, fraction=1.0, profile=False, freeze=None, multi_scale=False, overlap_mask=True, mask_ratio=4, dropout=0.0, val=True, split=val, save_json=False, save_hybrid=False, conf=None, iou=0.7, max_det=300, half=False, dnn=False, plots=True, source=None, vid_stride=1, stream_buffer=False, visualize=False, augment=False, agnostic_nms=False, classes=None, retina_masks=False, embed=None, show=False, save_frames=False, save_txt=False, save_conf=False, save_crop=False, show_labels=True, show_conf=True, show_boxes=True, line_width=None, format=torchscript, keras=False, optimize=False, int8=False, dynamic=False, simplify=False, opset=None, workspace=4, nms=False, lr0=0.01, lrf=0.01, momentum=0.937, weight_decay=0.0005, warmup_epochs=3.0, warmup_momentum=0.8, warmup_bias_lr=0.1, box=7.5, cls=0.5, dfl=1.5, pose=12.0, kobj=1.0, label_smoothing=0.0, nbs=64, hsv_h=0.015, hsv_s=0.7, hsv_v=0.4, degrees=0.0, translate=0.1, scale=0.5, shear=0.0, perspective=0.0, flipud=0.0, fliplr=0.5, mosaic=1.0, mixup=0.0, copy_paste=0.0, auto_augment=randaugment, erasing=0.4, crop_fraction=1.0, cfg=None, tracker=botsort.yaml, save_dir=runs/detect/train\n",
            "Downloading https://ultralytics.com/assets/Arial.ttf to '/root/.config/Ultralytics/Arial.ttf'...\n"
          ]
        },
        {
          "output_type": "stream",
          "name": "stderr",
          "text": [
            "100%|██████████| 755k/755k [00:00<00:00, 17.6MB/s]\n"
          ]
        },
        {
          "output_type": "stream",
          "name": "stdout",
          "text": [
            "Overriding model.yaml nc=80 with nc=1\n",
            "\n",
            "                   from  n    params  module                                       arguments                     \n",
            "  0                  -1  1       464  ultralytics.nn.modules.conv.Conv             [3, 16, 3, 2]                 \n",
            "  1                  -1  1      4672  ultralytics.nn.modules.conv.Conv             [16, 32, 3, 2]                \n",
            "  2                  -1  1      7360  ultralytics.nn.modules.block.C2f             [32, 32, 1, True]             \n",
            "  3                  -1  1     18560  ultralytics.nn.modules.conv.Conv             [32, 64, 3, 2]                \n",
            "  4                  -1  2     49664  ultralytics.nn.modules.block.C2f             [64, 64, 2, True]             \n",
            "  5                  -1  1     73984  ultralytics.nn.modules.conv.Conv             [64, 128, 3, 2]               \n",
            "  6                  -1  2    197632  ultralytics.nn.modules.block.C2f             [128, 128, 2, True]           \n",
            "  7                  -1  1    295424  ultralytics.nn.modules.conv.Conv             [128, 256, 3, 2]              \n",
            "  8                  -1  1    460288  ultralytics.nn.modules.block.C2f             [256, 256, 1, True]           \n",
            "  9                  -1  1    164608  ultralytics.nn.modules.block.SPPF            [256, 256, 5]                 \n",
            " 10                  -1  1         0  torch.nn.modules.upsampling.Upsample         [None, 2, 'nearest']          \n",
            " 11             [-1, 6]  1         0  ultralytics.nn.modules.conv.Concat           [1]                           \n",
            " 12                  -1  1    148224  ultralytics.nn.modules.block.C2f             [384, 128, 1]                 \n",
            " 13                  -1  1         0  torch.nn.modules.upsampling.Upsample         [None, 2, 'nearest']          \n",
            " 14             [-1, 4]  1         0  ultralytics.nn.modules.conv.Concat           [1]                           \n",
            " 15                  -1  1     37248  ultralytics.nn.modules.block.C2f             [192, 64, 1]                  \n",
            " 16                  -1  1     36992  ultralytics.nn.modules.conv.Conv             [64, 64, 3, 2]                \n",
            " 17            [-1, 12]  1         0  ultralytics.nn.modules.conv.Concat           [1]                           \n",
            " 18                  -1  1    123648  ultralytics.nn.modules.block.C2f             [192, 128, 1]                 \n",
            " 19                  -1  1    147712  ultralytics.nn.modules.conv.Conv             [128, 128, 3, 2]              \n",
            " 20             [-1, 9]  1         0  ultralytics.nn.modules.conv.Concat           [1]                           \n",
            " 21                  -1  1    493056  ultralytics.nn.modules.block.C2f             [384, 256, 1]                 \n",
            " 22        [15, 18, 21]  1    751507  ultralytics.nn.modules.head.Detect           [1, [64, 128, 256]]           \n",
            "Model summary: 225 layers, 3011043 parameters, 3011027 gradients, 8.2 GFLOPs\n",
            "\n",
            "Transferred 319/355 items from pretrained weights\n",
            "\u001b[31m\u001b[1mrequirements:\u001b[0m Ultralytics requirement ['hub-sdk>=0.0.2'] not found, attempting AutoUpdate...\n",
            "Collecting hub-sdk>=0.0.2\n",
            "  Downloading hub_sdk-0.0.3-py3-none-any.whl (37 kB)\n",
            "Requirement already satisfied: requests in /usr/local/lib/python3.10/dist-packages (from hub-sdk>=0.0.2) (2.31.0)\n",
            "Requirement already satisfied: charset-normalizer<4,>=2 in /usr/local/lib/python3.10/dist-packages (from requests->hub-sdk>=0.0.2) (3.3.2)\n",
            "Requirement already satisfied: idna<4,>=2.5 in /usr/local/lib/python3.10/dist-packages (from requests->hub-sdk>=0.0.2) (3.6)\n",
            "Requirement already satisfied: urllib3<3,>=1.21.1 in /usr/local/lib/python3.10/dist-packages (from requests->hub-sdk>=0.0.2) (2.0.7)\n",
            "Requirement already satisfied: certifi>=2017.4.17 in /usr/local/lib/python3.10/dist-packages (from requests->hub-sdk>=0.0.2) (2023.11.17)\n",
            "Installing collected packages: hub-sdk\n",
            "Successfully installed hub-sdk-0.0.3\n",
            "\n",
            "\u001b[31m\u001b[1mrequirements:\u001b[0m AutoUpdate success ✅ 6.2s, installed 1 package: ['hub-sdk>=0.0.2']\n",
            "\u001b[31m\u001b[1mrequirements:\u001b[0m ⚠️ \u001b[1mRestart runtime or rerun command for updates to take effect\u001b[0m\n",
            "\n",
            "\u001b[34m\u001b[1mTensorBoard: \u001b[0mStart with 'tensorboard --logdir runs/detect/train', view at http://localhost:6006/\n",
            "Freezing layer 'model.22.dfl.conv.weight'\n",
            "\u001b[34m\u001b[1mAMP: \u001b[0mrunning Automatic Mixed Precision (AMP) checks with YOLOv8n...\n",
            "\u001b[34m\u001b[1mAMP: \u001b[0mchecks passed ✅\n"
          ]
        },
        {
          "output_type": "stream",
          "name": "stderr",
          "text": [
            "\u001b[34m\u001b[1mtrain: \u001b[0mScanning /content/__MACOSX/train/labels... 253 images, 210 backgrounds, 0 corrupt: 100%|██████████| 458/458 [00:00<00:00, 2488.26it/s]"
          ]
        },
        {
          "output_type": "stream",
          "name": "stdout",
          "text": [
            "\u001b[34m\u001b[1mtrain: \u001b[0mWARNING ⚠️ /content/__MACOSX/train/images/000123.jpg: corrupt JPEG restored and saved\n",
            "\u001b[34m\u001b[1mtrain: \u001b[0mNew cache created: /content/__MACOSX/train/labels.cache\n"
          ]
        },
        {
          "output_type": "stream",
          "name": "stderr",
          "text": [
            "\n"
          ]
        },
        {
          "output_type": "stream",
          "name": "stdout",
          "text": [
            "\u001b[34m\u001b[1malbumentations: \u001b[0mBlur(p=0.01, blur_limit=(3, 7)), MedianBlur(p=0.01, blur_limit=(3, 7)), ToGray(p=0.01), CLAHE(p=0.01, clip_limit=(1, 4.0), tile_grid_size=(8, 8))\n"
          ]
        },
        {
          "output_type": "stream",
          "name": "stderr",
          "text": [
            "\u001b[34m\u001b[1mval: \u001b[0mScanning /content/__MACOSX/train/labels.cache... 253 images, 210 backgrounds, 0 corrupt: 100%|██████████| 458/458 [00:00<?, ?it/s]"
          ]
        },
        {
          "output_type": "stream",
          "name": "stdout",
          "text": [
            "\u001b[34m\u001b[1mtrain: \u001b[0mWARNING ⚠️ /content/__MACOSX/train/images/000123.jpg: corrupt JPEG restored and saved\n"
          ]
        },
        {
          "output_type": "stream",
          "name": "stderr",
          "text": [
            "\n"
          ]
        },
        {
          "output_type": "stream",
          "name": "stdout",
          "text": [
            "Plotting labels to runs/detect/train/labels.jpg... \n",
            "\u001b[34m\u001b[1moptimizer:\u001b[0m 'optimizer=auto' found, ignoring 'lr0=0.01' and 'momentum=0.937' and determining best 'optimizer', 'lr0' and 'momentum' automatically... \n",
            "\u001b[34m\u001b[1moptimizer:\u001b[0m AdamW(lr=0.002, momentum=0.9) with parameter groups 57 weight(decay=0.0), 64 weight(decay=0.0005), 63 bias(decay=0.0)\n",
            "50 epochs...\n",
            "\n",
            "      Epoch    GPU_mem   box_loss   cls_loss   dfl_loss  Instances       Size\n"
          ]
        },
        {
          "output_type": "stream",
          "name": "stderr",
          "text": [
            "       1/50      3.53G       1.71      3.737      1.879         16        800: 100%|██████████| 29/29 [00:18<00:00,  1.55it/s]\n",
            "                 Class     Images  Instances      Box(P          R      mAP50  mAP50-95): 100%|██████████| 15/15 [00:11<00:00,  1.30it/s]"
          ]
        },
        {
          "output_type": "stream",
          "name": "stdout",
          "text": [
            "                   all        458        410    0.00275      0.922      0.235      0.102\n"
          ]
        },
        {
          "output_type": "stream",
          "name": "stderr",
          "text": [
            "\n"
          ]
        },
        {
          "output_type": "stream",
          "name": "stdout",
          "text": [
            "\n",
            "      Epoch    GPU_mem   box_loss   cls_loss   dfl_loss  Instances       Size\n"
          ]
        },
        {
          "output_type": "stream",
          "name": "stderr",
          "text": [
            "       2/50      3.57G      1.787      3.286      1.918         16        800: 100%|██████████| 29/29 [00:15<00:00,  1.87it/s]\n",
            "                 Class     Images  Instances      Box(P          R      mAP50  mAP50-95): 100%|██████████| 15/15 [00:09<00:00,  1.55it/s]\n"
          ]
        },
        {
          "output_type": "stream",
          "name": "stdout",
          "text": [
            "                   all        458        410      0.186      0.156     0.0896     0.0244\n",
            "\n",
            "      Epoch    GPU_mem   box_loss   cls_loss   dfl_loss  Instances       Size\n"
          ]
        },
        {
          "output_type": "stream",
          "name": "stderr",
          "text": [
            "       3/50      3.58G      1.917      3.277       2.07         10        800: 100%|██████████| 29/29 [00:14<00:00,  2.06it/s]\n",
            "                 Class     Images  Instances      Box(P          R      mAP50  mAP50-95): 100%|██████████| 15/15 [00:08<00:00,  1.76it/s]\n"
          ]
        },
        {
          "output_type": "stream",
          "name": "stdout",
          "text": [
            "                   all        458        410      0.129      0.202     0.0724     0.0181\n",
            "\n",
            "      Epoch    GPU_mem   box_loss   cls_loss   dfl_loss  Instances       Size\n"
          ]
        },
        {
          "output_type": "stream",
          "name": "stderr",
          "text": [
            "       4/50      3.57G      2.059      3.206       2.19         24        800: 100%|██████████| 29/29 [00:14<00:00,  1.97it/s]\n",
            "                 Class     Images  Instances      Box(P          R      mAP50  mAP50-95): 100%|██████████| 15/15 [00:08<00:00,  1.75it/s]\n"
          ]
        },
        {
          "output_type": "stream",
          "name": "stdout",
          "text": [
            "                   all        458        410     0.0529      0.315     0.0257      0.006\n",
            "\n",
            "      Epoch    GPU_mem   box_loss   cls_loss   dfl_loss  Instances       Size\n"
          ]
        },
        {
          "output_type": "stream",
          "name": "stderr",
          "text": [
            "       5/50      3.54G      1.922      3.001       2.11         18        800: 100%|██████████| 29/29 [00:14<00:00,  2.00it/s]\n",
            "                 Class     Images  Instances      Box(P          R      mAP50  mAP50-95): 100%|██████████| 15/15 [00:11<00:00,  1.36it/s]\n"
          ]
        },
        {
          "output_type": "stream",
          "name": "stdout",
          "text": [
            "                   all        458        410    0.00701      0.371    0.00581    0.00188\n",
            "\n",
            "      Epoch    GPU_mem   box_loss   cls_loss   dfl_loss  Instances       Size\n"
          ]
        },
        {
          "output_type": "stream",
          "name": "stderr",
          "text": [
            "       6/50      3.55G      1.879      2.751      2.017         15        800: 100%|██████████| 29/29 [00:14<00:00,  1.99it/s]\n",
            "                 Class     Images  Instances      Box(P          R      mAP50  mAP50-95): 100%|██████████| 15/15 [00:09<00:00,  1.52it/s]\n"
          ]
        },
        {
          "output_type": "stream",
          "name": "stdout",
          "text": [
            "                   all        458        410      0.148      0.317      0.131     0.0455\n",
            "\n",
            "      Epoch    GPU_mem   box_loss   cls_loss   dfl_loss  Instances       Size\n"
          ]
        },
        {
          "output_type": "stream",
          "name": "stderr",
          "text": [
            "       7/50       3.6G      1.918      2.649       2.06         17        800: 100%|██████████| 29/29 [00:14<00:00,  1.99it/s]\n",
            "                 Class     Images  Instances      Box(P          R      mAP50  mAP50-95): 100%|██████████| 15/15 [00:09<00:00,  1.53it/s]\n"
          ]
        },
        {
          "output_type": "stream",
          "name": "stdout",
          "text": [
            "                   all        458        410      0.214      0.193      0.126     0.0415\n",
            "\n",
            "      Epoch    GPU_mem   box_loss   cls_loss   dfl_loss  Instances       Size\n"
          ]
        },
        {
          "output_type": "stream",
          "name": "stderr",
          "text": [
            "       8/50      3.54G      1.871      2.605      2.083         15        800: 100%|██████████| 29/29 [00:14<00:00,  2.00it/s]\n",
            "                 Class     Images  Instances      Box(P          R      mAP50  mAP50-95): 100%|██████████| 15/15 [00:08<00:00,  1.87it/s]\n"
          ]
        },
        {
          "output_type": "stream",
          "name": "stdout",
          "text": [
            "                   all        458        410      0.228       0.28      0.166     0.0518\n",
            "\n",
            "      Epoch    GPU_mem   box_loss   cls_loss   dfl_loss  Instances       Size\n"
          ]
        },
        {
          "output_type": "stream",
          "name": "stderr",
          "text": [
            "       9/50      3.54G       1.86      2.472      2.017         21        800: 100%|██████████| 29/29 [00:15<00:00,  1.92it/s]\n",
            "                 Class     Images  Instances      Box(P          R      mAP50  mAP50-95): 100%|██████████| 15/15 [00:09<00:00,  1.61it/s]"
          ]
        },
        {
          "output_type": "stream",
          "name": "stdout",
          "text": [
            "                   all        458        410      0.253      0.315      0.207      0.082\n"
          ]
        },
        {
          "output_type": "stream",
          "name": "stderr",
          "text": [
            "\n"
          ]
        },
        {
          "output_type": "stream",
          "name": "stdout",
          "text": [
            "\n",
            "      Epoch    GPU_mem   box_loss   cls_loss   dfl_loss  Instances       Size\n"
          ]
        },
        {
          "output_type": "stream",
          "name": "stderr",
          "text": [
            "      10/50      3.55G      1.933      2.561      2.087         10        800: 100%|██████████| 29/29 [00:15<00:00,  1.89it/s]\n",
            "                 Class     Images  Instances      Box(P          R      mAP50  mAP50-95): 100%|██████████| 15/15 [00:10<00:00,  1.49it/s]\n"
          ]
        },
        {
          "output_type": "stream",
          "name": "stdout",
          "text": [
            "                   all        458        410      0.247      0.283      0.187     0.0853\n",
            "\n",
            "      Epoch    GPU_mem   box_loss   cls_loss   dfl_loss  Instances       Size\n"
          ]
        },
        {
          "output_type": "stream",
          "name": "stderr",
          "text": [
            "      11/50      3.54G      1.839      2.545      2.054         18        800: 100%|██████████| 29/29 [00:14<00:00,  2.06it/s]\n",
            "                 Class     Images  Instances      Box(P          R      mAP50  mAP50-95): 100%|██████████| 15/15 [00:08<00:00,  1.70it/s]\n"
          ]
        },
        {
          "output_type": "stream",
          "name": "stdout",
          "text": [
            "                   all        458        410      0.262      0.368      0.221     0.0832\n",
            "\n",
            "      Epoch    GPU_mem   box_loss   cls_loss   dfl_loss  Instances       Size\n"
          ]
        },
        {
          "output_type": "stream",
          "name": "stderr",
          "text": [
            "      12/50      3.62G       1.87      2.415      2.028          8        800: 100%|██████████| 29/29 [00:14<00:00,  1.97it/s]\n",
            "                 Class     Images  Instances      Box(P          R      mAP50  mAP50-95): 100%|██████████| 15/15 [00:08<00:00,  1.86it/s]"
          ]
        },
        {
          "output_type": "stream",
          "name": "stdout",
          "text": [
            "                   all        458        410      0.397      0.386      0.356      0.154\n"
          ]
        },
        {
          "output_type": "stream",
          "name": "stderr",
          "text": [
            "\n"
          ]
        },
        {
          "output_type": "stream",
          "name": "stdout",
          "text": [
            "\n",
            "      Epoch    GPU_mem   box_loss   cls_loss   dfl_loss  Instances       Size\n"
          ]
        },
        {
          "output_type": "stream",
          "name": "stderr",
          "text": [
            "      13/50      3.54G      1.812      2.284      1.943         19        800: 100%|██████████| 29/29 [00:14<00:00,  1.97it/s]\n",
            "                 Class     Images  Instances      Box(P          R      mAP50  mAP50-95): 100%|██████████| 15/15 [00:10<00:00,  1.49it/s]"
          ]
        },
        {
          "output_type": "stream",
          "name": "stdout",
          "text": [
            "                   all        458        410      0.419       0.39      0.375      0.152\n"
          ]
        },
        {
          "output_type": "stream",
          "name": "stderr",
          "text": [
            "\n"
          ]
        },
        {
          "output_type": "stream",
          "name": "stdout",
          "text": [
            "\n",
            "      Epoch    GPU_mem   box_loss   cls_loss   dfl_loss  Instances       Size\n"
          ]
        },
        {
          "output_type": "stream",
          "name": "stderr",
          "text": [
            "      14/50      3.58G      1.779      2.289      1.968         13        800: 100%|██████████| 29/29 [00:14<00:00,  1.98it/s]\n",
            "                 Class     Images  Instances      Box(P          R      mAP50  mAP50-95): 100%|██████████| 15/15 [00:09<00:00,  1.63it/s]\n"
          ]
        },
        {
          "output_type": "stream",
          "name": "stdout",
          "text": [
            "                   all        458        410       0.38       0.42      0.379      0.174\n",
            "\n",
            "      Epoch    GPU_mem   box_loss   cls_loss   dfl_loss  Instances       Size\n"
          ]
        },
        {
          "output_type": "stream",
          "name": "stderr",
          "text": [
            "      15/50      3.54G      1.744      2.216      1.931         14        800: 100%|██████████| 29/29 [00:14<00:00,  2.01it/s]\n",
            "                 Class     Images  Instances      Box(P          R      mAP50  mAP50-95): 100%|██████████| 15/15 [00:10<00:00,  1.39it/s]\n"
          ]
        },
        {
          "output_type": "stream",
          "name": "stdout",
          "text": [
            "                   all        458        410      0.374      0.419      0.345      0.157\n",
            "\n",
            "      Epoch    GPU_mem   box_loss   cls_loss   dfl_loss  Instances       Size\n"
          ]
        },
        {
          "output_type": "stream",
          "name": "stderr",
          "text": [
            "      16/50      3.54G       1.71      2.194      1.896         12        800: 100%|██████████| 29/29 [00:14<00:00,  2.01it/s]\n",
            "                 Class     Images  Instances      Box(P          R      mAP50  mAP50-95): 100%|██████████| 15/15 [00:07<00:00,  1.92it/s]"
          ]
        },
        {
          "output_type": "stream",
          "name": "stdout",
          "text": [
            "                   all        458        410      0.399      0.359      0.324      0.134\n"
          ]
        },
        {
          "output_type": "stream",
          "name": "stderr",
          "text": [
            "\n"
          ]
        },
        {
          "output_type": "stream",
          "name": "stdout",
          "text": [
            "\n",
            "      Epoch    GPU_mem   box_loss   cls_loss   dfl_loss  Instances       Size\n"
          ]
        },
        {
          "output_type": "stream",
          "name": "stderr",
          "text": [
            "      17/50      3.54G      1.707      2.155      1.897         23        800: 100%|██████████| 29/29 [00:15<00:00,  1.86it/s]\n",
            "                 Class     Images  Instances      Box(P          R      mAP50  mAP50-95): 100%|██████████| 15/15 [00:09<00:00,  1.65it/s]"
          ]
        },
        {
          "output_type": "stream",
          "name": "stdout",
          "text": [
            "                   all        458        410      0.384      0.349      0.298      0.131\n"
          ]
        },
        {
          "output_type": "stream",
          "name": "stderr",
          "text": [
            "\n"
          ]
        },
        {
          "output_type": "stream",
          "name": "stdout",
          "text": [
            "\n",
            "      Epoch    GPU_mem   box_loss   cls_loss   dfl_loss  Instances       Size\n"
          ]
        },
        {
          "output_type": "stream",
          "name": "stderr",
          "text": [
            "      18/50      3.55G      1.741      2.223      1.917         17        800: 100%|██████████| 29/29 [00:14<00:00,  1.96it/s]\n",
            "                 Class     Images  Instances      Box(P          R      mAP50  mAP50-95): 100%|██████████| 15/15 [00:09<00:00,  1.53it/s]\n"
          ]
        },
        {
          "output_type": "stream",
          "name": "stdout",
          "text": [
            "                   all        458        410       0.36      0.341        0.3      0.131\n",
            "\n",
            "      Epoch    GPU_mem   box_loss   cls_loss   dfl_loss  Instances       Size\n"
          ]
        },
        {
          "output_type": "stream",
          "name": "stderr",
          "text": [
            "      19/50      3.54G      1.698      2.198      1.893         27        800: 100%|██████████| 29/29 [00:14<00:00,  1.96it/s]\n",
            "                 Class     Images  Instances      Box(P          R      mAP50  mAP50-95): 100%|██████████| 15/15 [00:09<00:00,  1.59it/s]"
          ]
        },
        {
          "output_type": "stream",
          "name": "stdout",
          "text": [
            "                   all        458        410      0.515      0.422      0.457      0.218\n"
          ]
        },
        {
          "output_type": "stream",
          "name": "stderr",
          "text": [
            "\n"
          ]
        },
        {
          "output_type": "stream",
          "name": "stdout",
          "text": [
            "\n",
            "      Epoch    GPU_mem   box_loss   cls_loss   dfl_loss  Instances       Size\n"
          ]
        },
        {
          "output_type": "stream",
          "name": "stderr",
          "text": [
            "      20/50      3.54G      1.728      2.036      1.872         16        800: 100%|██████████| 29/29 [00:14<00:00,  1.97it/s]\n",
            "                 Class     Images  Instances      Box(P          R      mAP50  mAP50-95): 100%|██████████| 15/15 [00:07<00:00,  1.88it/s]\n"
          ]
        },
        {
          "output_type": "stream",
          "name": "stdout",
          "text": [
            "                   all        458        410      0.463      0.444      0.403      0.183\n",
            "\n",
            "      Epoch    GPU_mem   box_loss   cls_loss   dfl_loss  Instances       Size\n"
          ]
        },
        {
          "output_type": "stream",
          "name": "stderr",
          "text": [
            "      21/50      3.54G      1.668       2.11      1.839         19        800: 100%|██████████| 29/29 [00:14<00:00,  1.99it/s]\n",
            "                 Class     Images  Instances      Box(P          R      mAP50  mAP50-95): 100%|██████████| 15/15 [00:09<00:00,  1.54it/s]"
          ]
        },
        {
          "output_type": "stream",
          "name": "stdout",
          "text": [
            "                   all        458        410      0.466      0.468      0.429      0.202\n"
          ]
        },
        {
          "output_type": "stream",
          "name": "stderr",
          "text": [
            "\n"
          ]
        },
        {
          "output_type": "stream",
          "name": "stdout",
          "text": [
            "\n",
            "      Epoch    GPU_mem   box_loss   cls_loss   dfl_loss  Instances       Size\n"
          ]
        },
        {
          "output_type": "stream",
          "name": "stderr",
          "text": [
            "      22/50      3.55G      1.683       2.02      1.856         18        800: 100%|██████████| 29/29 [00:14<00:00,  1.97it/s]\n",
            "                 Class     Images  Instances      Box(P          R      mAP50  mAP50-95): 100%|██████████| 15/15 [00:09<00:00,  1.51it/s]\n"
          ]
        },
        {
          "output_type": "stream",
          "name": "stdout",
          "text": [
            "                   all        458        410      0.447      0.415      0.392      0.186\n",
            "\n",
            "      Epoch    GPU_mem   box_loss   cls_loss   dfl_loss  Instances       Size\n"
          ]
        },
        {
          "output_type": "stream",
          "name": "stderr",
          "text": [
            "      23/50      3.54G      1.665      2.031      1.854          8        800: 100%|██████████| 29/29 [00:14<00:00,  2.06it/s]\n",
            "                 Class     Images  Instances      Box(P          R      mAP50  mAP50-95): 100%|██████████| 15/15 [00:09<00:00,  1.54it/s]\n"
          ]
        },
        {
          "output_type": "stream",
          "name": "stdout",
          "text": [
            "                   all        458        410      0.453      0.523      0.454      0.212\n",
            "\n",
            "      Epoch    GPU_mem   box_loss   cls_loss   dfl_loss  Instances       Size\n"
          ]
        },
        {
          "output_type": "stream",
          "name": "stderr",
          "text": [
            "      24/50      3.54G      1.649      1.992      1.839         12        800: 100%|██████████| 29/29 [00:14<00:00,  2.00it/s]\n",
            "                 Class     Images  Instances      Box(P          R      mAP50  mAP50-95): 100%|██████████| 15/15 [00:08<00:00,  1.77it/s]\n"
          ]
        },
        {
          "output_type": "stream",
          "name": "stdout",
          "text": [
            "                   all        458        410      0.521      0.539      0.531      0.264\n",
            "\n",
            "      Epoch    GPU_mem   box_loss   cls_loss   dfl_loss  Instances       Size\n"
          ]
        },
        {
          "output_type": "stream",
          "name": "stderr",
          "text": [
            "      25/50      3.54G       1.64      1.999      1.856         13        800: 100%|██████████| 29/29 [00:15<00:00,  1.91it/s]\n",
            "                 Class     Images  Instances      Box(P          R      mAP50  mAP50-95): 100%|██████████| 15/15 [00:10<00:00,  1.46it/s]"
          ]
        },
        {
          "output_type": "stream",
          "name": "stdout",
          "text": [
            "                   all        458        410      0.501      0.549      0.502      0.251\n"
          ]
        },
        {
          "output_type": "stream",
          "name": "stderr",
          "text": [
            "\n"
          ]
        },
        {
          "output_type": "stream",
          "name": "stdout",
          "text": [
            "\n",
            "      Epoch    GPU_mem   box_loss   cls_loss   dfl_loss  Instances       Size\n"
          ]
        },
        {
          "output_type": "stream",
          "name": "stderr",
          "text": [
            "      26/50      3.55G      1.633      2.008      1.841         19        800: 100%|██████████| 29/29 [00:14<00:00,  1.94it/s]\n",
            "                 Class     Images  Instances      Box(P          R      mAP50  mAP50-95): 100%|██████████| 15/15 [00:09<00:00,  1.59it/s]\n"
          ]
        },
        {
          "output_type": "stream",
          "name": "stdout",
          "text": [
            "                   all        458        410      0.509      0.522      0.488      0.234\n",
            "\n",
            "      Epoch    GPU_mem   box_loss   cls_loss   dfl_loss  Instances       Size\n"
          ]
        },
        {
          "output_type": "stream",
          "name": "stderr",
          "text": [
            "      27/50      3.54G      1.621      2.028      1.794         23        800: 100%|██████████| 29/29 [00:14<00:00,  2.00it/s]\n",
            "                 Class     Images  Instances      Box(P          R      mAP50  mAP50-95): 100%|██████████| 15/15 [00:09<00:00,  1.54it/s]\n"
          ]
        },
        {
          "output_type": "stream",
          "name": "stdout",
          "text": [
            "                   all        458        410      0.498      0.523      0.507      0.255\n",
            "\n",
            "      Epoch    GPU_mem   box_loss   cls_loss   dfl_loss  Instances       Size\n"
          ]
        },
        {
          "output_type": "stream",
          "name": "stderr",
          "text": [
            "      28/50      3.59G      1.591      1.886      1.764         28        800: 100%|██████████| 29/29 [00:15<00:00,  1.93it/s]\n",
            "                 Class     Images  Instances      Box(P          R      mAP50  mAP50-95): 100%|██████████| 15/15 [00:09<00:00,  1.60it/s]"
          ]
        },
        {
          "output_type": "stream",
          "name": "stdout",
          "text": [
            "                   all        458        410      0.585      0.553      0.557      0.283\n"
          ]
        },
        {
          "output_type": "stream",
          "name": "stderr",
          "text": [
            "\n"
          ]
        },
        {
          "output_type": "stream",
          "name": "stdout",
          "text": [
            "\n",
            "      Epoch    GPU_mem   box_loss   cls_loss   dfl_loss  Instances       Size\n"
          ]
        },
        {
          "output_type": "stream",
          "name": "stderr",
          "text": [
            "      29/50      3.54G      1.534      1.827      1.738         27        800: 100%|██████████| 29/29 [00:14<00:00,  2.00it/s]\n",
            "                 Class     Images  Instances      Box(P          R      mAP50  mAP50-95): 100%|██████████| 15/15 [00:07<00:00,  1.89it/s]"
          ]
        },
        {
          "output_type": "stream",
          "name": "stdout",
          "text": [
            "                   all        458        410      0.581      0.537      0.575      0.293\n"
          ]
        },
        {
          "output_type": "stream",
          "name": "stderr",
          "text": [
            "\n"
          ]
        },
        {
          "output_type": "stream",
          "name": "stdout",
          "text": [
            "\n",
            "      Epoch    GPU_mem   box_loss   cls_loss   dfl_loss  Instances       Size\n"
          ]
        },
        {
          "output_type": "stream",
          "name": "stderr",
          "text": [
            "      30/50      3.57G      1.535      1.893      1.745         15        800: 100%|██████████| 29/29 [00:14<00:00,  2.03it/s]\n",
            "                 Class     Images  Instances      Box(P          R      mAP50  mAP50-95): 100%|██████████| 15/15 [00:09<00:00,  1.53it/s]"
          ]
        },
        {
          "output_type": "stream",
          "name": "stdout",
          "text": [
            "                   all        458        410      0.559      0.578      0.592      0.305\n"
          ]
        },
        {
          "output_type": "stream",
          "name": "stderr",
          "text": [
            "\n"
          ]
        },
        {
          "output_type": "stream",
          "name": "stdout",
          "text": [
            "\n",
            "      Epoch    GPU_mem   box_loss   cls_loss   dfl_loss  Instances       Size\n"
          ]
        },
        {
          "output_type": "stream",
          "name": "stderr",
          "text": [
            "      31/50      3.61G      1.548      1.857      1.756         12        800: 100%|██████████| 29/29 [00:15<00:00,  1.92it/s]\n",
            "                 Class     Images  Instances      Box(P          R      mAP50  mAP50-95): 100%|██████████| 15/15 [00:09<00:00,  1.57it/s]"
          ]
        },
        {
          "output_type": "stream",
          "name": "stdout",
          "text": [
            "                   all        458        410      0.529      0.585      0.596      0.313\n"
          ]
        },
        {
          "output_type": "stream",
          "name": "stderr",
          "text": [
            "\n"
          ]
        },
        {
          "output_type": "stream",
          "name": "stdout",
          "text": [
            "\n",
            "      Epoch    GPU_mem   box_loss   cls_loss   dfl_loss  Instances       Size\n"
          ]
        },
        {
          "output_type": "stream",
          "name": "stderr",
          "text": [
            "      32/50      3.57G      1.498      1.818      1.711         27        800: 100%|██████████| 29/29 [00:14<00:00,  1.98it/s]\n",
            "                 Class     Images  Instances      Box(P          R      mAP50  mAP50-95): 100%|██████████| 15/15 [00:08<00:00,  1.74it/s]\n"
          ]
        },
        {
          "output_type": "stream",
          "name": "stdout",
          "text": [
            "                   all        458        410      0.576      0.585      0.596       0.33\n",
            "\n",
            "      Epoch    GPU_mem   box_loss   cls_loss   dfl_loss  Instances       Size\n"
          ]
        },
        {
          "output_type": "stream",
          "name": "stderr",
          "text": [
            "      33/50      3.54G      1.538      1.755      1.688         19        800: 100%|██████████| 29/29 [00:14<00:00,  1.97it/s]\n",
            "                 Class     Images  Instances      Box(P          R      mAP50  mAP50-95): 100%|██████████| 15/15 [00:07<00:00,  1.93it/s]"
          ]
        },
        {
          "output_type": "stream",
          "name": "stdout",
          "text": [
            "                   all        458        410      0.601      0.602      0.624      0.354\n"
          ]
        },
        {
          "output_type": "stream",
          "name": "stderr",
          "text": [
            "\n"
          ]
        },
        {
          "output_type": "stream",
          "name": "stdout",
          "text": [
            "\n",
            "      Epoch    GPU_mem   box_loss   cls_loss   dfl_loss  Instances       Size\n"
          ]
        },
        {
          "output_type": "stream",
          "name": "stderr",
          "text": [
            "      34/50      3.55G      1.451      1.713      1.659         20        800: 100%|██████████| 29/29 [00:15<00:00,  1.92it/s]\n",
            "                 Class     Images  Instances      Box(P          R      mAP50  mAP50-95): 100%|██████████| 15/15 [00:09<00:00,  1.54it/s]"
          ]
        },
        {
          "output_type": "stream",
          "name": "stdout",
          "text": [
            "                   all        458        410      0.642      0.522      0.593      0.346\n"
          ]
        },
        {
          "output_type": "stream",
          "name": "stderr",
          "text": [
            "\n"
          ]
        },
        {
          "output_type": "stream",
          "name": "stdout",
          "text": [
            "\n",
            "      Epoch    GPU_mem   box_loss   cls_loss   dfl_loss  Instances       Size\n"
          ]
        },
        {
          "output_type": "stream",
          "name": "stderr",
          "text": [
            "      35/50      3.54G      1.438      1.676      1.666         14        800: 100%|██████████| 29/29 [00:15<00:00,  1.90it/s]\n",
            "                 Class     Images  Instances      Box(P          R      mAP50  mAP50-95): 100%|██████████| 15/15 [00:10<00:00,  1.39it/s]"
          ]
        },
        {
          "output_type": "stream",
          "name": "stdout",
          "text": [
            "                   all        458        410      0.667      0.578      0.638      0.347\n"
          ]
        },
        {
          "output_type": "stream",
          "name": "stderr",
          "text": [
            "\n"
          ]
        },
        {
          "output_type": "stream",
          "name": "stdout",
          "text": [
            "\n",
            "      Epoch    GPU_mem   box_loss   cls_loss   dfl_loss  Instances       Size\n"
          ]
        },
        {
          "output_type": "stream",
          "name": "stderr",
          "text": [
            "      36/50      3.54G      1.511      1.717      1.674         20        800: 100%|██████████| 29/29 [00:14<00:00,  1.98it/s]\n",
            "                 Class     Images  Instances      Box(P          R      mAP50  mAP50-95): 100%|██████████| 15/15 [00:09<00:00,  1.58it/s]"
          ]
        },
        {
          "output_type": "stream",
          "name": "stdout",
          "text": [
            "                   all        458        410      0.568      0.637      0.621      0.346\n"
          ]
        },
        {
          "output_type": "stream",
          "name": "stderr",
          "text": [
            "\n"
          ]
        },
        {
          "output_type": "stream",
          "name": "stdout",
          "text": [
            "\n",
            "      Epoch    GPU_mem   box_loss   cls_loss   dfl_loss  Instances       Size\n"
          ]
        },
        {
          "output_type": "stream",
          "name": "stderr",
          "text": [
            "      37/50      3.56G      1.457      1.721      1.642         19        800: 100%|██████████| 29/29 [00:14<00:00,  1.97it/s]\n",
            "                 Class     Images  Instances      Box(P          R      mAP50  mAP50-95): 100%|██████████| 15/15 [00:07<00:00,  1.91it/s]"
          ]
        },
        {
          "output_type": "stream",
          "name": "stdout",
          "text": [
            "                   all        458        410      0.637      0.616      0.684      0.401\n"
          ]
        },
        {
          "output_type": "stream",
          "name": "stderr",
          "text": [
            "\n"
          ]
        },
        {
          "output_type": "stream",
          "name": "stdout",
          "text": [
            "\n",
            "      Epoch    GPU_mem   box_loss   cls_loss   dfl_loss  Instances       Size\n"
          ]
        },
        {
          "output_type": "stream",
          "name": "stderr",
          "text": [
            "      38/50      3.57G       1.42      1.627      1.643         28        800: 100%|██████████| 29/29 [00:15<00:00,  1.87it/s]\n",
            "                 Class     Images  Instances      Box(P          R      mAP50  mAP50-95): 100%|██████████| 15/15 [00:08<00:00,  1.75it/s]"
          ]
        },
        {
          "output_type": "stream",
          "name": "stdout",
          "text": [
            "                   all        458        410      0.639       0.62      0.687      0.391\n"
          ]
        },
        {
          "output_type": "stream",
          "name": "stderr",
          "text": [
            "\n"
          ]
        },
        {
          "output_type": "stream",
          "name": "stdout",
          "text": [
            "\n",
            "      Epoch    GPU_mem   box_loss   cls_loss   dfl_loss  Instances       Size\n"
          ]
        },
        {
          "output_type": "stream",
          "name": "stderr",
          "text": [
            "      39/50      3.54G      1.402      1.603       1.59         16        800: 100%|██████████| 29/29 [00:14<00:00,  2.05it/s]\n",
            "                 Class     Images  Instances      Box(P          R      mAP50  mAP50-95): 100%|██████████| 15/15 [00:09<00:00,  1.59it/s]"
          ]
        },
        {
          "output_type": "stream",
          "name": "stdout",
          "text": [
            "                   all        458        410      0.607      0.654      0.677      0.405\n"
          ]
        },
        {
          "output_type": "stream",
          "name": "stderr",
          "text": [
            "\n"
          ]
        },
        {
          "output_type": "stream",
          "name": "stdout",
          "text": [
            "\n",
            "      Epoch    GPU_mem   box_loss   cls_loss   dfl_loss  Instances       Size\n"
          ]
        },
        {
          "output_type": "stream",
          "name": "stderr",
          "text": [
            "      40/50      3.54G      1.419      1.634      1.633         28        800: 100%|██████████| 29/29 [00:15<00:00,  1.89it/s]\n",
            "                 Class     Images  Instances      Box(P          R      mAP50  mAP50-95): 100%|██████████| 15/15 [00:09<00:00,  1.61it/s]"
          ]
        },
        {
          "output_type": "stream",
          "name": "stdout",
          "text": [
            "                   all        458        410      0.629      0.656      0.682      0.403\n"
          ]
        },
        {
          "output_type": "stream",
          "name": "stderr",
          "text": [
            "\n"
          ]
        },
        {
          "output_type": "stream",
          "name": "stdout",
          "text": [
            "Closing dataloader mosaic\n",
            "\u001b[34m\u001b[1malbumentations: \u001b[0mBlur(p=0.01, blur_limit=(3, 7)), MedianBlur(p=0.01, blur_limit=(3, 7)), ToGray(p=0.01), CLAHE(p=0.01, clip_limit=(1, 4.0), tile_grid_size=(8, 8))\n",
            "\n",
            "      Epoch    GPU_mem   box_loss   cls_loss   dfl_loss  Instances       Size\n"
          ]
        },
        {
          "output_type": "stream",
          "name": "stderr",
          "text": [
            "      41/50      3.54G       1.41      1.692      1.716          9        800: 100%|██████████| 29/29 [00:16<00:00,  1.71it/s]\n",
            "                 Class     Images  Instances      Box(P          R      mAP50  mAP50-95): 100%|██████████| 15/15 [00:09<00:00,  1.51it/s]"
          ]
        },
        {
          "output_type": "stream",
          "name": "stdout",
          "text": [
            "                   all        458        410      0.713      0.639      0.712      0.424\n"
          ]
        },
        {
          "output_type": "stream",
          "name": "stderr",
          "text": [
            "\n"
          ]
        },
        {
          "output_type": "stream",
          "name": "stdout",
          "text": [
            "\n",
            "      Epoch    GPU_mem   box_loss   cls_loss   dfl_loss  Instances       Size\n"
          ]
        },
        {
          "output_type": "stream",
          "name": "stderr",
          "text": [
            "      42/50      3.54G      1.424      1.635      1.711          7        800: 100%|██████████| 29/29 [00:13<00:00,  2.12it/s]\n",
            "                 Class     Images  Instances      Box(P          R      mAP50  mAP50-95): 100%|██████████| 15/15 [00:08<00:00,  1.82it/s]\n"
          ]
        },
        {
          "output_type": "stream",
          "name": "stdout",
          "text": [
            "                   all        458        410      0.722      0.632      0.707      0.426\n",
            "\n",
            "      Epoch    GPU_mem   box_loss   cls_loss   dfl_loss  Instances       Size\n"
          ]
        },
        {
          "output_type": "stream",
          "name": "stderr",
          "text": [
            "      43/50      3.54G       1.38      1.486      1.694          8        800: 100%|██████████| 29/29 [00:13<00:00,  2.16it/s]\n",
            "                 Class     Images  Instances      Box(P          R      mAP50  mAP50-95): 100%|██████████| 15/15 [00:09<00:00,  1.52it/s]\n"
          ]
        },
        {
          "output_type": "stream",
          "name": "stdout",
          "text": [
            "                   all        458        410      0.705      0.651      0.724      0.438\n",
            "\n",
            "      Epoch    GPU_mem   box_loss   cls_loss   dfl_loss  Instances       Size\n"
          ]
        },
        {
          "output_type": "stream",
          "name": "stderr",
          "text": [
            "      44/50       3.6G      1.371      1.534      1.686         18        800: 100%|██████████| 29/29 [00:14<00:00,  2.02it/s]\n",
            "                 Class     Images  Instances      Box(P          R      mAP50  mAP50-95): 100%|██████████| 15/15 [00:10<00:00,  1.46it/s]"
          ]
        },
        {
          "output_type": "stream",
          "name": "stdout",
          "text": [
            "                   all        458        410      0.685      0.685      0.752       0.47\n"
          ]
        },
        {
          "output_type": "stream",
          "name": "stderr",
          "text": [
            "\n"
          ]
        },
        {
          "output_type": "stream",
          "name": "stdout",
          "text": [
            "\n",
            "      Epoch    GPU_mem   box_loss   cls_loss   dfl_loss  Instances       Size\n"
          ]
        },
        {
          "output_type": "stream",
          "name": "stderr",
          "text": [
            "      45/50      3.54G      1.316      1.459      1.618          5        800: 100%|██████████| 29/29 [00:18<00:00,  1.56it/s]\n",
            "                 Class     Images  Instances      Box(P          R      mAP50  mAP50-95): 100%|██████████| 15/15 [00:09<00:00,  1.58it/s]"
          ]
        },
        {
          "output_type": "stream",
          "name": "stdout",
          "text": [
            "                   all        458        410      0.758       0.68      0.759      0.489\n"
          ]
        },
        {
          "output_type": "stream",
          "name": "stderr",
          "text": [
            "\n"
          ]
        },
        {
          "output_type": "stream",
          "name": "stdout",
          "text": [
            "\n",
            "      Epoch    GPU_mem   box_loss   cls_loss   dfl_loss  Instances       Size\n"
          ]
        },
        {
          "output_type": "stream",
          "name": "stderr",
          "text": [
            "      46/50      3.54G      1.302       1.42      1.623          3        800: 100%|██████████| 29/29 [00:14<00:00,  2.00it/s]\n",
            "                 Class     Images  Instances      Box(P          R      mAP50  mAP50-95): 100%|██████████| 15/15 [00:09<00:00,  1.64it/s]"
          ]
        },
        {
          "output_type": "stream",
          "name": "stdout",
          "text": [
            "                   all        458        410      0.743      0.684      0.775        0.5\n"
          ]
        },
        {
          "output_type": "stream",
          "name": "stderr",
          "text": [
            "\n"
          ]
        },
        {
          "output_type": "stream",
          "name": "stdout",
          "text": [
            "\n",
            "      Epoch    GPU_mem   box_loss   cls_loss   dfl_loss  Instances       Size\n"
          ]
        },
        {
          "output_type": "stream",
          "name": "stderr",
          "text": [
            "      47/50      3.56G      1.371      1.488      1.679          6        800: 100%|██████████| 29/29 [00:13<00:00,  2.10it/s]\n",
            "                 Class     Images  Instances      Box(P          R      mAP50  mAP50-95): 100%|██████████| 15/15 [00:08<00:00,  1.82it/s]"
          ]
        },
        {
          "output_type": "stream",
          "name": "stdout",
          "text": [
            "                   all        458        410      0.779      0.687      0.794      0.519\n"
          ]
        },
        {
          "output_type": "stream",
          "name": "stderr",
          "text": [
            "\n"
          ]
        },
        {
          "output_type": "stream",
          "name": "stdout",
          "text": [
            "\n",
            "      Epoch    GPU_mem   box_loss   cls_loss   dfl_loss  Instances       Size\n"
          ]
        },
        {
          "output_type": "stream",
          "name": "stderr",
          "text": [
            "      48/50      3.54G      1.306      1.431      1.591          9        800: 100%|██████████| 29/29 [00:13<00:00,  2.07it/s]\n",
            "                 Class     Images  Instances      Box(P          R      mAP50  mAP50-95): 100%|██████████| 15/15 [00:09<00:00,  1.53it/s]"
          ]
        },
        {
          "output_type": "stream",
          "name": "stdout",
          "text": [
            "                   all        458        410      0.732      0.708      0.789      0.506\n"
          ]
        },
        {
          "output_type": "stream",
          "name": "stderr",
          "text": [
            "\n"
          ]
        },
        {
          "output_type": "stream",
          "name": "stdout",
          "text": [
            "\n",
            "      Epoch    GPU_mem   box_loss   cls_loss   dfl_loss  Instances       Size\n"
          ]
        },
        {
          "output_type": "stream",
          "name": "stderr",
          "text": [
            "      49/50      3.57G      1.311      1.397      1.589          7        800: 100%|██████████| 29/29 [00:13<00:00,  2.13it/s]\n",
            "                 Class     Images  Instances      Box(P          R      mAP50  mAP50-95): 100%|██████████| 15/15 [00:09<00:00,  1.57it/s]"
          ]
        },
        {
          "output_type": "stream",
          "name": "stdout",
          "text": [
            "                   all        458        410      0.727      0.734      0.812      0.531\n"
          ]
        },
        {
          "output_type": "stream",
          "name": "stderr",
          "text": [
            "\n"
          ]
        },
        {
          "output_type": "stream",
          "name": "stdout",
          "text": [
            "\n",
            "      Epoch    GPU_mem   box_loss   cls_loss   dfl_loss  Instances       Size\n"
          ]
        },
        {
          "output_type": "stream",
          "name": "stderr",
          "text": [
            "      50/50      3.58G      1.222      1.357      1.525          9        800: 100%|██████████| 29/29 [00:13<00:00,  2.11it/s]\n",
            "                 Class     Images  Instances      Box(P          R      mAP50  mAP50-95): 100%|██████████| 15/15 [00:08<00:00,  1.85it/s]"
          ]
        },
        {
          "output_type": "stream",
          "name": "stdout",
          "text": [
            "                   all        458        410      0.729      0.783      0.818      0.542\n"
          ]
        },
        {
          "output_type": "stream",
          "name": "stderr",
          "text": [
            "\n"
          ]
        },
        {
          "output_type": "stream",
          "name": "stdout",
          "text": [
            "\n",
            "50 epochs completed in 0.349 hours.\n",
            "Optimizer stripped from runs/detect/train/weights/last.pt, 6.3MB\n",
            "Optimizer stripped from runs/detect/train/weights/best.pt, 6.3MB\n",
            "\n",
            "Validating runs/detect/train/weights/best.pt...\n",
            "Ultralytics YOLOv8.1.2 🚀 Python-3.10.12 torch-2.1.0+cu121 CUDA:0 (Tesla T4, 15102MiB)\n",
            "Model summary (fused): 168 layers, 3005843 parameters, 0 gradients, 8.1 GFLOPs\n"
          ]
        },
        {
          "output_type": "stream",
          "name": "stderr",
          "text": [
            "                 Class     Images  Instances      Box(P          R      mAP50  mAP50-95): 100%|██████████| 15/15 [00:10<00:00,  1.50it/s]\n"
          ]
        },
        {
          "output_type": "stream",
          "name": "stdout",
          "text": [
            "                   all        458        410      0.747      0.748      0.819      0.542\n",
            "Speed: 0.4ms preprocess, 3.3ms inference, 0.0ms loss, 4.0ms postprocess per image\n",
            "Results saved to \u001b[1mruns/detect/train\u001b[0m\n"
          ]
        }
      ]
    },
    {
      "cell_type": "code",
      "source": [
        "predict = model.predict(model=\"/content/__MACOSX/runs/detect/train/weights/best.pt\", source=\"/IMGA0002.jpg\")"
      ],
      "metadata": {
        "colab": {
          "base_uri": "https://localhost:8080/"
        },
        "id": "YFXNKKMIEMuD",
        "outputId": "de02151e-f3f9-4c37-da95-3550efc0dd43"
      },
      "execution_count": null,
      "outputs": [
        {
          "output_type": "stream",
          "name": "stdout",
          "text": [
            "\n",
            "image 1/1 /IMGA0002.jpg: 480x800 2 class_0s, 103.8ms\n",
            "Speed: 2.5ms preprocess, 103.8ms inference, 2.1ms postprocess per image at shape (1, 3, 480, 800)\n"
          ]
        }
      ]
    }
  ]
}
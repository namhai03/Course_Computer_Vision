{
  "cells": [
    {
      "cell_type": "markdown",
      "metadata": {
        "id": "view-in-github",
        "colab_type": "text"
      },
      "source": [
        "<a href=\"https://colab.research.google.com/github/namhai03/Course_Computer_Vision/blob/main/video_classifier_RNN.ipynb\" target=\"_parent\"><img src=\"https://colab.research.google.com/assets/colab-badge.svg\" alt=\"Open In Colab\"/></a>"
      ]
    },
    {
      "cell_type": "markdown",
      "id": "64a42a09",
      "metadata": {
        "id": "64a42a09"
      },
      "source": [
        "# Video Classifier Using RNN\n"
      ]
    },
    {
      "cell_type": "code",
      "source": [
        "!unzip dataset.zip -d /content/"
      ],
      "metadata": {
        "colab": {
          "base_uri": "https://localhost:8080/"
        },
        "id": "5MVu-Rx52fmv",
        "outputId": "3d9ae6fe-4f59-4be7-9348-f48e4ad9fe5d"
      },
      "id": "5MVu-Rx52fmv",
      "execution_count": null,
      "outputs": [
        {
          "output_type": "stream",
          "name": "stdout",
          "text": [
            "Archive:  dataset.zip\n",
            "   creating: /content/dataset/\n",
            "   creating: /content/dataset/test/\n",
            "   creating: /content/dataset/test/dance/\n",
            "  inflating: /content/dataset/test/dance/dance-1.mp4  \n",
            "  inflating: /content/dataset/test/dance/dance-2.mp4  \n",
            "   creating: /content/dataset/test/yoga/\n",
            "  inflating: /content/dataset/test/yoga/yoga-1.mp4  \n",
            "  inflating: /content/dataset/test/yoga/yoga-2.mp4  \n",
            "   creating: /content/dataset/train/\n",
            "   creating: /content/dataset/train/dance/\n",
            "  inflating: /content/dataset/train/dance/dance-1.mp4  \n",
            "  inflating: /content/dataset/train/dance/dance-2.mp4  \n",
            "  inflating: /content/dataset/train/dance/dance-3.mp4  \n",
            "  inflating: /content/dataset/train/dance/dance-4.mp4  \n",
            "  inflating: /content/dataset/train/dance/dance-5.mp4  \n",
            "  inflating: /content/dataset/train/dance/dance-6.mp4  \n",
            "  inflating: /content/dataset/train/dance/dance-7.mp4  \n",
            "   creating: /content/dataset/train/yoga/\n",
            "  inflating: /content/dataset/train/yoga/yoga-1.mp4  \n",
            "  inflating: /content/dataset/train/yoga/yoga-2.mp4  \n",
            "  inflating: /content/dataset/train/yoga/yoga-3.mp4  \n",
            "  inflating: /content/dataset/train/yoga/yoga-4.mp4  \n",
            "  inflating: /content/dataset/train/yoga/yoga-5.mp4  \n",
            "  inflating: /content/dataset/train/yoga/yoga-6.mp4  \n"
          ]
        }
      ]
    },
    {
      "cell_type": "code",
      "execution_count": null,
      "id": "59b4b70e",
      "metadata": {
        "colab": {
          "base_uri": "https://localhost:8080/"
        },
        "id": "59b4b70e",
        "outputId": "cc448e00-bc0e-47c9-99d3-db9945656514"
      },
      "outputs": [
        {
          "output_type": "stream",
          "name": "stdout",
          "text": [
            "['dance', 'yoga']\n"
          ]
        }
      ],
      "source": [
        "import numpy as np\n",
        "import pandas as pd\n",
        "import matplotlib.pyplot as plt\n",
        "import os\n",
        "\n",
        "label_types = os.listdir('/content/dataset/train')\n",
        "print (label_types)"
      ]
    },
    {
      "cell_type": "markdown",
      "id": "935f06c4",
      "metadata": {
        "id": "935f06c4"
      },
      "source": [
        "# Preparing Training Data"
      ]
    },
    {
      "cell_type": "code",
      "execution_count": null,
      "id": "d7e00542",
      "metadata": {
        "colab": {
          "base_uri": "https://localhost:8080/"
        },
        "id": "d7e00542",
        "outputId": "d0973f39-673a-413f-abbd-9b228cac97f1"
      },
      "outputs": [
        {
          "output_type": "stream",
          "name": "stdout",
          "text": [
            "     tag                       video_name\n",
            "0  dance  dataset/train/dance/dance-1.mp4\n",
            "1  dance  dataset/train/dance/dance-3.mp4\n",
            "2  dance  dataset/train/dance/dance-2.mp4\n",
            "3  dance  dataset/train/dance/dance-5.mp4\n",
            "4  dance  dataset/train/dance/dance-6.mp4\n",
            "     tag                     video_name\n",
            "8   yoga  dataset/train/yoga/yoga-5.mp4\n",
            "9   yoga  dataset/train/yoga/yoga-2.mp4\n",
            "10  yoga  dataset/train/yoga/yoga-4.mp4\n",
            "11  yoga  dataset/train/yoga/yoga-1.mp4\n",
            "12  yoga  dataset/train/yoga/yoga-3.mp4\n"
          ]
        }
      ],
      "source": [
        "rooms = []\n",
        "dataset_path = os.listdir('/content/dataset/train')\n",
        "\n",
        "for item in dataset_path:\n",
        " # Get all the file names\n",
        " all_rooms = os.listdir('dataset/train' + '/' +item)\n",
        "\n",
        " # Add them to the list\n",
        " for room in all_rooms:\n",
        "    rooms.append((item, str('dataset/train' + '/' +item) + '/' + room))\n",
        "\n",
        "# Build a dataframe\n",
        "train_df = pd.DataFrame(data=rooms, columns=['tag', 'video_name'])\n",
        "print(train_df.head())\n",
        "print(train_df.tail())\n"
      ]
    },
    {
      "cell_type": "code",
      "execution_count": null,
      "id": "27ac79ad",
      "metadata": {
        "id": "27ac79ad"
      },
      "outputs": [],
      "source": [
        "df = train_df.loc[:,['video_name','tag']]\n",
        "df\n",
        "df.to_csv('train.csv')"
      ]
    },
    {
      "cell_type": "markdown",
      "id": "ee0897c2",
      "metadata": {
        "id": "ee0897c2"
      },
      "source": [
        "# Preparing Test Data"
      ]
    },
    {
      "cell_type": "code",
      "execution_count": null,
      "id": "413b31f2",
      "metadata": {
        "colab": {
          "base_uri": "https://localhost:8080/"
        },
        "id": "413b31f2",
        "outputId": "fbe8f17f-c72d-4ed0-ffa1-f09c4481b49d"
      },
      "outputs": [
        {
          "output_type": "stream",
          "name": "stdout",
          "text": [
            "['dance', 'yoga']\n",
            "Types of activities found:  2\n",
            "     tag                      video_name\n",
            "0  dance  dataset/test/dance/dance-1.mp4\n",
            "1  dance  dataset/test/dance/dance-2.mp4\n",
            "2   yoga    dataset/test/yoga/yoga-2.mp4\n",
            "3   yoga    dataset/test/yoga/yoga-1.mp4\n",
            "     tag                      video_name\n",
            "0  dance  dataset/test/dance/dance-1.mp4\n",
            "1  dance  dataset/test/dance/dance-2.mp4\n",
            "2   yoga    dataset/test/yoga/yoga-2.mp4\n",
            "3   yoga    dataset/test/yoga/yoga-1.mp4\n"
          ]
        }
      ],
      "source": [
        "dataset_path = os.listdir('dataset/test')\n",
        "print(dataset_path)\n",
        "\n",
        "room_types = os.listdir('dataset/test')\n",
        "print(\"Types of activities found: \", len(dataset_path))\n",
        "\n",
        "rooms = []\n",
        "\n",
        "for item in dataset_path:\n",
        " # Get all the file names\n",
        " all_rooms = os.listdir('dataset/test' + '/' +item)\n",
        "\n",
        " # Add them to the list\n",
        " for room in all_rooms:\n",
        "    rooms.append((item, str('dataset/test' + '/' +item) + '/' + room))\n",
        "\n",
        "# Build a dataframe\n",
        "test_df = pd.DataFrame(data=rooms, columns=['tag', 'video_name'])\n",
        "print(test_df.head())\n",
        "print(test_df.tail())\n",
        "\n",
        "df = test_df.loc[:,['video_name','tag']]\n",
        "df\n",
        "df.to_csv('test.csv')"
      ]
    },
    {
      "cell_type": "code",
      "execution_count": null,
      "id": "c45fb7c1",
      "metadata": {
        "colab": {
          "base_uri": "https://localhost:8080/"
        },
        "id": "c45fb7c1",
        "outputId": "c4304d2b-f41b-4202-cc0b-bb667d486308"
      },
      "outputs": [
        {
          "output_type": "stream",
          "name": "stdout",
          "text": [
            "Collecting git+https://github.com/tensorflow/docs\n",
            "  Cloning https://github.com/tensorflow/docs to /tmp/pip-req-build-tf2kgz71\n",
            "  Running command git clone --filter=blob:none --quiet https://github.com/tensorflow/docs /tmp/pip-req-build-tf2kgz71\n",
            "  Resolved https://github.com/tensorflow/docs to commit b12399eb2047f534a7474fff58c16b4e3be79886\n",
            "  Preparing metadata (setup.py) ... \u001b[?25l\u001b[?25hdone\n",
            "Collecting astor (from tensorflow-docs==2024.1.17.4828)\n",
            "  Downloading astor-0.8.1-py2.py3-none-any.whl (27 kB)\n",
            "Requirement already satisfied: absl-py in /usr/local/lib/python3.10/dist-packages (from tensorflow-docs==2024.1.17.4828) (1.4.0)\n",
            "Requirement already satisfied: jinja2 in /usr/local/lib/python3.10/dist-packages (from tensorflow-docs==2024.1.17.4828) (3.1.3)\n",
            "Requirement already satisfied: nbformat in /usr/local/lib/python3.10/dist-packages (from tensorflow-docs==2024.1.17.4828) (5.9.2)\n",
            "Requirement already satisfied: protobuf>=3.12 in /usr/local/lib/python3.10/dist-packages (from tensorflow-docs==2024.1.17.4828) (3.20.3)\n",
            "Requirement already satisfied: pyyaml in /usr/local/lib/python3.10/dist-packages (from tensorflow-docs==2024.1.17.4828) (6.0.1)\n",
            "Requirement already satisfied: MarkupSafe>=2.0 in /usr/local/lib/python3.10/dist-packages (from jinja2->tensorflow-docs==2024.1.17.4828) (2.1.3)\n",
            "Requirement already satisfied: fastjsonschema in /usr/local/lib/python3.10/dist-packages (from nbformat->tensorflow-docs==2024.1.17.4828) (2.19.1)\n",
            "Requirement already satisfied: jsonschema>=2.6 in /usr/local/lib/python3.10/dist-packages (from nbformat->tensorflow-docs==2024.1.17.4828) (4.19.2)\n",
            "Requirement already satisfied: jupyter-core in /usr/local/lib/python3.10/dist-packages (from nbformat->tensorflow-docs==2024.1.17.4828) (5.7.1)\n",
            "Requirement already satisfied: traitlets>=5.1 in /usr/local/lib/python3.10/dist-packages (from nbformat->tensorflow-docs==2024.1.17.4828) (5.7.1)\n",
            "Requirement already satisfied: attrs>=22.2.0 in /usr/local/lib/python3.10/dist-packages (from jsonschema>=2.6->nbformat->tensorflow-docs==2024.1.17.4828) (23.2.0)\n",
            "Requirement already satisfied: jsonschema-specifications>=2023.03.6 in /usr/local/lib/python3.10/dist-packages (from jsonschema>=2.6->nbformat->tensorflow-docs==2024.1.17.4828) (2023.12.1)\n",
            "Requirement already satisfied: referencing>=0.28.4 in /usr/local/lib/python3.10/dist-packages (from jsonschema>=2.6->nbformat->tensorflow-docs==2024.1.17.4828) (0.32.1)\n",
            "Requirement already satisfied: rpds-py>=0.7.1 in /usr/local/lib/python3.10/dist-packages (from jsonschema>=2.6->nbformat->tensorflow-docs==2024.1.17.4828) (0.17.1)\n",
            "Requirement already satisfied: platformdirs>=2.5 in /usr/local/lib/python3.10/dist-packages (from jupyter-core->nbformat->tensorflow-docs==2024.1.17.4828) (4.1.0)\n",
            "Building wheels for collected packages: tensorflow-docs\n",
            "  Building wheel for tensorflow-docs (setup.py) ... \u001b[?25l\u001b[?25hdone\n",
            "  Created wheel for tensorflow-docs: filename=tensorflow_docs-2024.1.17.4828-py3-none-any.whl size=181243 sha256=e87102a002cdb095e5c5839f92be29b943c2cbe8e56226813f871cb601c7086e\n",
            "  Stored in directory: /tmp/pip-ephem-wheel-cache-i9vz_i_l/wheels/86/0f/1e/3b62293c8ffd0fd5a49508e6871cdb7554abe9c62afd35ec53\n",
            "Successfully built tensorflow-docs\n",
            "Installing collected packages: astor, tensorflow-docs\n",
            "Successfully installed astor-0.8.1 tensorflow-docs-2024.1.17.4828\n"
          ]
        }
      ],
      "source": [
        "!pip install git+https://github.com/tensorflow/docs"
      ]
    },
    {
      "cell_type": "code",
      "execution_count": null,
      "id": "918d9338",
      "metadata": {
        "id": "918d9338"
      },
      "outputs": [],
      "source": [
        "from tensorflow_docs.vis import embed\n",
        "from tensorflow import keras\n",
        "from imutils import paths\n",
        "\n",
        "import matplotlib.pyplot as plt\n",
        "import tensorflow as tf\n",
        "import pandas as pd\n",
        "import numpy as np\n",
        "import imageio\n",
        "import cv2\n",
        "import os"
      ]
    },
    {
      "cell_type": "markdown",
      "id": "2bdf44bb",
      "metadata": {
        "id": "2bdf44bb"
      },
      "source": [
        "# Data preparation"
      ]
    },
    {
      "cell_type": "code",
      "execution_count": null,
      "id": "8b716cfb",
      "metadata": {
        "id": "8b716cfb",
        "outputId": "5cfefd6d-4d08-4217-f3cd-ef7379bd3ba7",
        "colab": {
          "base_uri": "https://localhost:8080/",
          "height": 397
        }
      },
      "outputs": [
        {
          "output_type": "stream",
          "name": "stdout",
          "text": [
            "Total videos for training: 13\n",
            "Total videos for testing: 4\n"
          ]
        },
        {
          "output_type": "execute_result",
          "data": {
            "text/plain": [
              "   Unnamed: 0                       video_name    tag\n",
              "9           9    dataset/train/yoga/yoga-2.mp4   yoga\n",
              "1           1  dataset/train/dance/dance-3.mp4  dance\n",
              "3           3  dataset/train/dance/dance-5.mp4  dance\n",
              "5           5  dataset/train/dance/dance-7.mp4  dance\n",
              "4           4  dataset/train/dance/dance-6.mp4  dance\n",
              "7           7    dataset/train/yoga/yoga-6.mp4   yoga\n",
              "2           2  dataset/train/dance/dance-2.mp4  dance\n",
              "0           0  dataset/train/dance/dance-1.mp4  dance\n",
              "8           8    dataset/train/yoga/yoga-5.mp4   yoga\n",
              "6           6  dataset/train/dance/dance-4.mp4  dance"
            ],
            "text/html": [
              "\n",
              "  <div id=\"df-c1be6d26-1935-4942-ae83-5ee889d11c19\" class=\"colab-df-container\">\n",
              "    <div>\n",
              "<style scoped>\n",
              "    .dataframe tbody tr th:only-of-type {\n",
              "        vertical-align: middle;\n",
              "    }\n",
              "\n",
              "    .dataframe tbody tr th {\n",
              "        vertical-align: top;\n",
              "    }\n",
              "\n",
              "    .dataframe thead th {\n",
              "        text-align: right;\n",
              "    }\n",
              "</style>\n",
              "<table border=\"1\" class=\"dataframe\">\n",
              "  <thead>\n",
              "    <tr style=\"text-align: right;\">\n",
              "      <th></th>\n",
              "      <th>Unnamed: 0</th>\n",
              "      <th>video_name</th>\n",
              "      <th>tag</th>\n",
              "    </tr>\n",
              "  </thead>\n",
              "  <tbody>\n",
              "    <tr>\n",
              "      <th>9</th>\n",
              "      <td>9</td>\n",
              "      <td>dataset/train/yoga/yoga-2.mp4</td>\n",
              "      <td>yoga</td>\n",
              "    </tr>\n",
              "    <tr>\n",
              "      <th>1</th>\n",
              "      <td>1</td>\n",
              "      <td>dataset/train/dance/dance-3.mp4</td>\n",
              "      <td>dance</td>\n",
              "    </tr>\n",
              "    <tr>\n",
              "      <th>3</th>\n",
              "      <td>3</td>\n",
              "      <td>dataset/train/dance/dance-5.mp4</td>\n",
              "      <td>dance</td>\n",
              "    </tr>\n",
              "    <tr>\n",
              "      <th>5</th>\n",
              "      <td>5</td>\n",
              "      <td>dataset/train/dance/dance-7.mp4</td>\n",
              "      <td>dance</td>\n",
              "    </tr>\n",
              "    <tr>\n",
              "      <th>4</th>\n",
              "      <td>4</td>\n",
              "      <td>dataset/train/dance/dance-6.mp4</td>\n",
              "      <td>dance</td>\n",
              "    </tr>\n",
              "    <tr>\n",
              "      <th>7</th>\n",
              "      <td>7</td>\n",
              "      <td>dataset/train/yoga/yoga-6.mp4</td>\n",
              "      <td>yoga</td>\n",
              "    </tr>\n",
              "    <tr>\n",
              "      <th>2</th>\n",
              "      <td>2</td>\n",
              "      <td>dataset/train/dance/dance-2.mp4</td>\n",
              "      <td>dance</td>\n",
              "    </tr>\n",
              "    <tr>\n",
              "      <th>0</th>\n",
              "      <td>0</td>\n",
              "      <td>dataset/train/dance/dance-1.mp4</td>\n",
              "      <td>dance</td>\n",
              "    </tr>\n",
              "    <tr>\n",
              "      <th>8</th>\n",
              "      <td>8</td>\n",
              "      <td>dataset/train/yoga/yoga-5.mp4</td>\n",
              "      <td>yoga</td>\n",
              "    </tr>\n",
              "    <tr>\n",
              "      <th>6</th>\n",
              "      <td>6</td>\n",
              "      <td>dataset/train/dance/dance-4.mp4</td>\n",
              "      <td>dance</td>\n",
              "    </tr>\n",
              "  </tbody>\n",
              "</table>\n",
              "</div>\n",
              "    <div class=\"colab-df-buttons\">\n",
              "\n",
              "  <div class=\"colab-df-container\">\n",
              "    <button class=\"colab-df-convert\" onclick=\"convertToInteractive('df-c1be6d26-1935-4942-ae83-5ee889d11c19')\"\n",
              "            title=\"Convert this dataframe to an interactive table.\"\n",
              "            style=\"display:none;\">\n",
              "\n",
              "  <svg xmlns=\"http://www.w3.org/2000/svg\" height=\"24px\" viewBox=\"0 -960 960 960\">\n",
              "    <path d=\"M120-120v-720h720v720H120Zm60-500h600v-160H180v160Zm220 220h160v-160H400v160Zm0 220h160v-160H400v160ZM180-400h160v-160H180v160Zm440 0h160v-160H620v160ZM180-180h160v-160H180v160Zm440 0h160v-160H620v160Z\"/>\n",
              "  </svg>\n",
              "    </button>\n",
              "\n",
              "  <style>\n",
              "    .colab-df-container {\n",
              "      display:flex;\n",
              "      gap: 12px;\n",
              "    }\n",
              "\n",
              "    .colab-df-convert {\n",
              "      background-color: #E8F0FE;\n",
              "      border: none;\n",
              "      border-radius: 50%;\n",
              "      cursor: pointer;\n",
              "      display: none;\n",
              "      fill: #1967D2;\n",
              "      height: 32px;\n",
              "      padding: 0 0 0 0;\n",
              "      width: 32px;\n",
              "    }\n",
              "\n",
              "    .colab-df-convert:hover {\n",
              "      background-color: #E2EBFA;\n",
              "      box-shadow: 0px 1px 2px rgba(60, 64, 67, 0.3), 0px 1px 3px 1px rgba(60, 64, 67, 0.15);\n",
              "      fill: #174EA6;\n",
              "    }\n",
              "\n",
              "    .colab-df-buttons div {\n",
              "      margin-bottom: 4px;\n",
              "    }\n",
              "\n",
              "    [theme=dark] .colab-df-convert {\n",
              "      background-color: #3B4455;\n",
              "      fill: #D2E3FC;\n",
              "    }\n",
              "\n",
              "    [theme=dark] .colab-df-convert:hover {\n",
              "      background-color: #434B5C;\n",
              "      box-shadow: 0px 1px 3px 1px rgba(0, 0, 0, 0.15);\n",
              "      filter: drop-shadow(0px 1px 2px rgba(0, 0, 0, 0.3));\n",
              "      fill: #FFFFFF;\n",
              "    }\n",
              "  </style>\n",
              "\n",
              "    <script>\n",
              "      const buttonEl =\n",
              "        document.querySelector('#df-c1be6d26-1935-4942-ae83-5ee889d11c19 button.colab-df-convert');\n",
              "      buttonEl.style.display =\n",
              "        google.colab.kernel.accessAllowed ? 'block' : 'none';\n",
              "\n",
              "      async function convertToInteractive(key) {\n",
              "        const element = document.querySelector('#df-c1be6d26-1935-4942-ae83-5ee889d11c19');\n",
              "        const dataTable =\n",
              "          await google.colab.kernel.invokeFunction('convertToInteractive',\n",
              "                                                    [key], {});\n",
              "        if (!dataTable) return;\n",
              "\n",
              "        const docLinkHtml = 'Like what you see? Visit the ' +\n",
              "          '<a target=\"_blank\" href=https://colab.research.google.com/notebooks/data_table.ipynb>data table notebook</a>'\n",
              "          + ' to learn more about interactive tables.';\n",
              "        element.innerHTML = '';\n",
              "        dataTable['output_type'] = 'display_data';\n",
              "        await google.colab.output.renderOutput(dataTable, element);\n",
              "        const docLink = document.createElement('div');\n",
              "        docLink.innerHTML = docLinkHtml;\n",
              "        element.appendChild(docLink);\n",
              "      }\n",
              "    </script>\n",
              "  </div>\n",
              "\n",
              "\n",
              "<div id=\"df-77d2f99a-c18f-4854-8337-67ef7568d209\">\n",
              "  <button class=\"colab-df-quickchart\" onclick=\"quickchart('df-77d2f99a-c18f-4854-8337-67ef7568d209')\"\n",
              "            title=\"Suggest charts\"\n",
              "            style=\"display:none;\">\n",
              "\n",
              "<svg xmlns=\"http://www.w3.org/2000/svg\" height=\"24px\"viewBox=\"0 0 24 24\"\n",
              "     width=\"24px\">\n",
              "    <g>\n",
              "        <path d=\"M19 3H5c-1.1 0-2 .9-2 2v14c0 1.1.9 2 2 2h14c1.1 0 2-.9 2-2V5c0-1.1-.9-2-2-2zM9 17H7v-7h2v7zm4 0h-2V7h2v10zm4 0h-2v-4h2v4z\"/>\n",
              "    </g>\n",
              "</svg>\n",
              "  </button>\n",
              "\n",
              "<style>\n",
              "  .colab-df-quickchart {\n",
              "      --bg-color: #E8F0FE;\n",
              "      --fill-color: #1967D2;\n",
              "      --hover-bg-color: #E2EBFA;\n",
              "      --hover-fill-color: #174EA6;\n",
              "      --disabled-fill-color: #AAA;\n",
              "      --disabled-bg-color: #DDD;\n",
              "  }\n",
              "\n",
              "  [theme=dark] .colab-df-quickchart {\n",
              "      --bg-color: #3B4455;\n",
              "      --fill-color: #D2E3FC;\n",
              "      --hover-bg-color: #434B5C;\n",
              "      --hover-fill-color: #FFFFFF;\n",
              "      --disabled-bg-color: #3B4455;\n",
              "      --disabled-fill-color: #666;\n",
              "  }\n",
              "\n",
              "  .colab-df-quickchart {\n",
              "    background-color: var(--bg-color);\n",
              "    border: none;\n",
              "    border-radius: 50%;\n",
              "    cursor: pointer;\n",
              "    display: none;\n",
              "    fill: var(--fill-color);\n",
              "    height: 32px;\n",
              "    padding: 0;\n",
              "    width: 32px;\n",
              "  }\n",
              "\n",
              "  .colab-df-quickchart:hover {\n",
              "    background-color: var(--hover-bg-color);\n",
              "    box-shadow: 0 1px 2px rgba(60, 64, 67, 0.3), 0 1px 3px 1px rgba(60, 64, 67, 0.15);\n",
              "    fill: var(--button-hover-fill-color);\n",
              "  }\n",
              "\n",
              "  .colab-df-quickchart-complete:disabled,\n",
              "  .colab-df-quickchart-complete:disabled:hover {\n",
              "    background-color: var(--disabled-bg-color);\n",
              "    fill: var(--disabled-fill-color);\n",
              "    box-shadow: none;\n",
              "  }\n",
              "\n",
              "  .colab-df-spinner {\n",
              "    border: 2px solid var(--fill-color);\n",
              "    border-color: transparent;\n",
              "    border-bottom-color: var(--fill-color);\n",
              "    animation:\n",
              "      spin 1s steps(1) infinite;\n",
              "  }\n",
              "\n",
              "  @keyframes spin {\n",
              "    0% {\n",
              "      border-color: transparent;\n",
              "      border-bottom-color: var(--fill-color);\n",
              "      border-left-color: var(--fill-color);\n",
              "    }\n",
              "    20% {\n",
              "      border-color: transparent;\n",
              "      border-left-color: var(--fill-color);\n",
              "      border-top-color: var(--fill-color);\n",
              "    }\n",
              "    30% {\n",
              "      border-color: transparent;\n",
              "      border-left-color: var(--fill-color);\n",
              "      border-top-color: var(--fill-color);\n",
              "      border-right-color: var(--fill-color);\n",
              "    }\n",
              "    40% {\n",
              "      border-color: transparent;\n",
              "      border-right-color: var(--fill-color);\n",
              "      border-top-color: var(--fill-color);\n",
              "    }\n",
              "    60% {\n",
              "      border-color: transparent;\n",
              "      border-right-color: var(--fill-color);\n",
              "    }\n",
              "    80% {\n",
              "      border-color: transparent;\n",
              "      border-right-color: var(--fill-color);\n",
              "      border-bottom-color: var(--fill-color);\n",
              "    }\n",
              "    90% {\n",
              "      border-color: transparent;\n",
              "      border-bottom-color: var(--fill-color);\n",
              "    }\n",
              "  }\n",
              "</style>\n",
              "\n",
              "  <script>\n",
              "    async function quickchart(key) {\n",
              "      const quickchartButtonEl =\n",
              "        document.querySelector('#' + key + ' button');\n",
              "      quickchartButtonEl.disabled = true;  // To prevent multiple clicks.\n",
              "      quickchartButtonEl.classList.add('colab-df-spinner');\n",
              "      try {\n",
              "        const charts = await google.colab.kernel.invokeFunction(\n",
              "            'suggestCharts', [key], {});\n",
              "      } catch (error) {\n",
              "        console.error('Error during call to suggestCharts:', error);\n",
              "      }\n",
              "      quickchartButtonEl.classList.remove('colab-df-spinner');\n",
              "      quickchartButtonEl.classList.add('colab-df-quickchart-complete');\n",
              "    }\n",
              "    (() => {\n",
              "      let quickchartButtonEl =\n",
              "        document.querySelector('#df-77d2f99a-c18f-4854-8337-67ef7568d209 button');\n",
              "      quickchartButtonEl.style.display =\n",
              "        google.colab.kernel.accessAllowed ? 'block' : 'none';\n",
              "    })();\n",
              "  </script>\n",
              "</div>\n",
              "\n",
              "    </div>\n",
              "  </div>\n"
            ]
          },
          "metadata": {},
          "execution_count": 11
        }
      ],
      "source": [
        "train_df = pd.read_csv(\"train.csv\")\n",
        "test_df = pd.read_csv(\"test.csv\")\n",
        "\n",
        "print(f\"Total videos for training: {len(train_df)}\")\n",
        "print(f\"Total videos for testing: {len(test_df)}\")\n",
        "\n",
        "\n",
        "train_df.sample(10)"
      ]
    },
    {
      "cell_type": "markdown",
      "id": "b93c182a",
      "metadata": {
        "id": "b93c182a"
      },
      "source": [
        "# Feed the videos to a network:\n"
      ]
    },
    {
      "cell_type": "code",
      "execution_count": null,
      "id": "fcd68b72",
      "metadata": {
        "id": "fcd68b72"
      },
      "outputs": [],
      "source": [
        "# The following two methods are taken from this tutorial:\n",
        "# https://www.tensorflow.org/hub/tutorials/action_recognition_with_tf_hub\n",
        "IMG_SIZE = 224\n",
        "\n",
        "\n",
        "def crop_center_square(frame):\n",
        "    y, x = frame.shape[0:2]\n",
        "    min_dim = min(y, x)\n",
        "    start_x = (x // 2) - (min_dim // 2)\n",
        "    start_y = (y // 2) - (min_dim // 2)\n",
        "    return frame[start_y : start_y + min_dim, start_x : start_x + min_dim]\n",
        "\n",
        "\n",
        "def load_video(path, max_frames=0, resize=(IMG_SIZE, IMG_SIZE)):\n",
        "    cap = cv2.VideoCapture(path)\n",
        "    frames = []\n",
        "    try:\n",
        "        while True:\n",
        "            ret, frame = cap.read()\n",
        "            if not ret:\n",
        "                break\n",
        "            frame = crop_center_square(frame)\n",
        "            frame = cv2.resize(frame, resize)\n",
        "            frame = frame[:, :, [2, 1, 0]]\n",
        "            frames.append(frame)\n",
        "\n",
        "            if len(frames) == max_frames:\n",
        "                break\n",
        "    finally:\n",
        "        cap.release()\n",
        "    return np.array(frames)"
      ]
    },
    {
      "cell_type": "markdown",
      "id": "c243c6ee",
      "metadata": {
        "id": "c243c6ee"
      },
      "source": [
        "   ### Feature Extraction"
      ]
    },
    {
      "cell_type": "code",
      "execution_count": null,
      "id": "388c0afe",
      "metadata": {
        "id": "388c0afe",
        "colab": {
          "base_uri": "https://localhost:8080/"
        },
        "outputId": "f7600770-cfa2-4f8c-f225-7d999a4f10e3"
      },
      "outputs": [
        {
          "output_type": "stream",
          "name": "stdout",
          "text": [
            "Downloading data from https://storage.googleapis.com/tensorflow/keras-applications/inception_v3/inception_v3_weights_tf_dim_ordering_tf_kernels_notop.h5\n",
            "87910968/87910968 [==============================] - 3s 0us/step\n"
          ]
        }
      ],
      "source": [
        "def build_feature_extractor():\n",
        "    feature_extractor = keras.applications.InceptionV3(\n",
        "        weights=\"imagenet\",\n",
        "        include_top=False,\n",
        "        pooling=\"avg\",\n",
        "        input_shape=(IMG_SIZE, IMG_SIZE, 3),\n",
        "    )\n",
        "    preprocess_input = keras.applications.inception_v3.preprocess_input\n",
        "\n",
        "    inputs = keras.Input((IMG_SIZE, IMG_SIZE, 3))\n",
        "    preprocessed = preprocess_input(inputs)\n",
        "\n",
        "    outputs = feature_extractor(preprocessed)\n",
        "    return keras.Model(inputs, outputs, name=\"feature_extractor\")\n",
        "\n",
        "\n",
        "feature_extractor = build_feature_extractor()"
      ]
    },
    {
      "cell_type": "markdown",
      "id": "877ca626",
      "metadata": {
        "id": "877ca626"
      },
      "source": [
        "### Label Encoding\n",
        "StringLookup layer encode the class labels as integers."
      ]
    },
    {
      "cell_type": "code",
      "execution_count": null,
      "id": "801339d8",
      "metadata": {
        "id": "801339d8",
        "outputId": "e101a07d-b06b-4a3c-f877-79fd1422c8fe",
        "colab": {
          "base_uri": "https://localhost:8080/"
        }
      },
      "outputs": [
        {
          "output_type": "stream",
          "name": "stdout",
          "text": [
            "['dance', 'yoga']\n"
          ]
        },
        {
          "output_type": "execute_result",
          "data": {
            "text/plain": [
              "array([[0],\n",
              "       [0],\n",
              "       [0],\n",
              "       [0],\n",
              "       [0],\n",
              "       [0],\n",
              "       [0],\n",
              "       [1],\n",
              "       [1],\n",
              "       [1],\n",
              "       [1],\n",
              "       [1],\n",
              "       [1]])"
            ]
          },
          "metadata": {},
          "execution_count": 14
        }
      ],
      "source": [
        "label_processor = keras.layers.StringLookup(num_oov_indices=0, vocabulary=np.unique(train_df[\"tag\"]))\n",
        "print(label_processor.get_vocabulary())\n",
        "\n",
        "labels = train_df[\"tag\"].values\n",
        "labels = label_processor(labels[..., None]).numpy()\n",
        "labels"
      ]
    },
    {
      "cell_type": "markdown",
      "id": "fde4ac85",
      "metadata": {
        "id": "fde4ac85"
      },
      "source": [
        "Finally, we can put all the pieces together to create our data processing utility."
      ]
    },
    {
      "cell_type": "code",
      "execution_count": null,
      "id": "76216366",
      "metadata": {
        "id": "76216366"
      },
      "outputs": [],
      "source": [
        "#Define hyperparameters\n",
        "\n",
        "IMG_SIZE = 224\n",
        "BATCH_SIZE = 64\n",
        "EPOCHS = 100\n",
        "\n",
        "MAX_SEQ_LENGTH = 20\n",
        "NUM_FEATURES = 2048"
      ]
    },
    {
      "cell_type": "code",
      "execution_count": null,
      "id": "11befa62",
      "metadata": {
        "id": "11befa62",
        "outputId": "5038ca48-5190-4ec2-921b-146230456355",
        "colab": {
          "base_uri": "https://localhost:8080/"
        }
      },
      "outputs": [
        {
          "output_type": "stream",
          "name": "stdout",
          "text": [
            "Frame features in train set: (13, 20, 2048)\n",
            "Frame masks in train set: (13, 20)\n",
            "train_labels in train set: (13, 1)\n",
            "test_labels in train set: (4, 1)\n"
          ]
        }
      ],
      "source": [
        "def prepare_all_videos(df, root_dir):\n",
        "    num_samples = len(df)\n",
        "    video_paths = df[\"video_name\"].values.tolist()\n",
        "\n",
        "    ##take all classlabels from train_df column named 'tag' and store in labels\n",
        "    labels = df[\"tag\"].values\n",
        "\n",
        "    #convert classlabels to label encoding\n",
        "    labels = label_processor(labels[..., None]).numpy()\n",
        "\n",
        "    # `frame_masks` and `frame_features` are what we will feed to our sequence model.\n",
        "    # `frame_masks` will contain a bunch of booleans denoting if a timestep is\n",
        "    # masked with padding or not.\n",
        "    frame_masks = np.zeros(shape=(num_samples, MAX_SEQ_LENGTH), dtype=\"bool\") # 145,20\n",
        "    frame_features = np.zeros(shape=(num_samples, MAX_SEQ_LENGTH, NUM_FEATURES), dtype=\"float32\") #145,20,2048\n",
        "\n",
        "    # For each video.\n",
        "    for idx, path in enumerate(video_paths):\n",
        "        # Gather all its frames and add a batch dimension.\n",
        "        frames = load_video(os.path.join(root_dir, path))\n",
        "        frames = frames[None, ...]\n",
        "\n",
        "        # Initialize placeholders to store the masks and features of the current video.\n",
        "        temp_frame_mask = np.zeros(shape=(1, MAX_SEQ_LENGTH,), dtype=\"bool\")\n",
        "        temp_frame_features = np.zeros(\n",
        "            shape=(1, MAX_SEQ_LENGTH, NUM_FEATURES), dtype=\"float32\"\n",
        "        )\n",
        "\n",
        "        # Extract features from the frames of the current video.\n",
        "        for i, batch in enumerate(frames):\n",
        "            video_length = batch.shape[0]\n",
        "            length = min(MAX_SEQ_LENGTH, video_length)\n",
        "            for j in range(length):\n",
        "                temp_frame_features[i, j, :] = feature_extractor.predict(\n",
        "                    batch[None, j, :]\n",
        "                )\n",
        "            temp_frame_mask[i, :length] = 1  # 1 = not masked, 0 = masked\n",
        "\n",
        "        frame_features[idx,] = temp_frame_features.squeeze()\n",
        "        frame_masks[idx,] = temp_frame_mask.squeeze()\n",
        "\n",
        "    return (frame_features, frame_masks), labels\n",
        "\n",
        "\n",
        "train_data, train_labels = prepare_all_videos(train_df, \"train\")\n",
        "test_data, test_labels = prepare_all_videos(test_df, \"test\")\n",
        "\n",
        "print(f\"Frame features in train set: {train_data[0].shape}\")\n",
        "print(f\"Frame masks in train set: {train_data[1].shape}\")\n",
        "\n",
        "\n",
        "\n",
        "print(f\"train_labels in train set: {train_labels.shape}\")\n",
        "\n",
        "print(f\"test_labels in train set: {test_labels.shape}\")\n",
        "\n",
        "# MAX_SEQ_LENGTH = 20, NUM_FEATURES = 2048. We have defined this above under hyper parameters"
      ]
    },
    {
      "cell_type": "markdown",
      "id": "407e0827",
      "metadata": {
        "id": "407e0827"
      },
      "source": [
        "# The sequence model\n",
        "Now, we can feed this data to a sequence model consisting of recurrent layers like GRU."
      ]
    },
    {
      "cell_type": "code",
      "execution_count": null,
      "id": "7382f3c1",
      "metadata": {
        "id": "7382f3c1",
        "outputId": "1aa0a3e6-0581-4a87-dac6-64bff7e09afc",
        "colab": {
          "base_uri": "https://localhost:8080/"
        }
      },
      "outputs": [
        {
          "output_type": "stream",
          "name": "stdout",
          "text": [
            "Epoch 1/30\n",
            "1/1 [==============================] - ETA: 0s - loss: 0.6931 - accuracy: 0.7778\n",
            "Epoch 1: val_loss improved from inf to 0.69415, saving model to ./tmp/video_classifier\n",
            "1/1 [==============================] - 14s 14s/step - loss: 0.6931 - accuracy: 0.7778 - val_loss: 0.6941 - val_accuracy: 0.0000e+00\n",
            "Epoch 2/30\n",
            "1/1 [==============================] - ETA: 0s - loss: 0.6926 - accuracy: 0.7778\n",
            "Epoch 2: val_loss did not improve from 0.69415\n",
            "1/1 [==============================] - 0s 140ms/step - loss: 0.6926 - accuracy: 0.7778 - val_loss: 0.6951 - val_accuracy: 0.0000e+00\n",
            "Epoch 3/30\n",
            "1/1 [==============================] - ETA: 0s - loss: 0.6920 - accuracy: 0.7778\n",
            "Epoch 3: val_loss did not improve from 0.69415\n",
            "1/1 [==============================] - 0s 134ms/step - loss: 0.6920 - accuracy: 0.7778 - val_loss: 0.6962 - val_accuracy: 0.0000e+00\n",
            "Epoch 4/30\n",
            "1/1 [==============================] - ETA: 0s - loss: 0.6915 - accuracy: 0.7778\n",
            "Epoch 4: val_loss did not improve from 0.69415\n",
            "1/1 [==============================] - 0s 152ms/step - loss: 0.6915 - accuracy: 0.7778 - val_loss: 0.6972 - val_accuracy: 0.0000e+00\n",
            "Epoch 5/30\n",
            "1/1 [==============================] - ETA: 0s - loss: 0.6909 - accuracy: 0.7778\n",
            "Epoch 5: val_loss did not improve from 0.69415\n",
            "1/1 [==============================] - 0s 138ms/step - loss: 0.6909 - accuracy: 0.7778 - val_loss: 0.6982 - val_accuracy: 0.0000e+00\n",
            "Epoch 6/30\n",
            "1/1 [==============================] - ETA: 0s - loss: 0.6904 - accuracy: 0.7778\n",
            "Epoch 6: val_loss did not improve from 0.69415\n",
            "1/1 [==============================] - 0s 132ms/step - loss: 0.6904 - accuracy: 0.7778 - val_loss: 0.6992 - val_accuracy: 0.0000e+00\n",
            "Epoch 7/30\n",
            "1/1 [==============================] - ETA: 0s - loss: 0.6898 - accuracy: 0.7778\n",
            "Epoch 7: val_loss did not improve from 0.69415\n",
            "1/1 [==============================] - 0s 137ms/step - loss: 0.6898 - accuracy: 0.7778 - val_loss: 0.7002 - val_accuracy: 0.0000e+00\n",
            "Epoch 8/30\n",
            "1/1 [==============================] - ETA: 0s - loss: 0.6893 - accuracy: 0.7778\n",
            "Epoch 8: val_loss did not improve from 0.69415\n",
            "1/1 [==============================] - 0s 127ms/step - loss: 0.6893 - accuracy: 0.7778 - val_loss: 0.7012 - val_accuracy: 0.0000e+00\n",
            "Epoch 9/30\n",
            "1/1 [==============================] - ETA: 0s - loss: 0.6887 - accuracy: 0.7778\n",
            "Epoch 9: val_loss did not improve from 0.69415\n",
            "1/1 [==============================] - 0s 122ms/step - loss: 0.6887 - accuracy: 0.7778 - val_loss: 0.7022 - val_accuracy: 0.0000e+00\n",
            "Epoch 10/30\n",
            "1/1 [==============================] - ETA: 0s - loss: 0.6882 - accuracy: 0.7778\n",
            "Epoch 10: val_loss did not improve from 0.69415\n",
            "1/1 [==============================] - 0s 137ms/step - loss: 0.6882 - accuracy: 0.7778 - val_loss: 0.7032 - val_accuracy: 0.0000e+00\n",
            "Epoch 11/30\n",
            "1/1 [==============================] - ETA: 0s - loss: 0.6876 - accuracy: 0.7778\n",
            "Epoch 11: val_loss did not improve from 0.69415\n",
            "1/1 [==============================] - 0s 140ms/step - loss: 0.6876 - accuracy: 0.7778 - val_loss: 0.7042 - val_accuracy: 0.0000e+00\n",
            "Epoch 12/30\n",
            "1/1 [==============================] - ETA: 0s - loss: 0.6871 - accuracy: 0.7778\n",
            "Epoch 12: val_loss did not improve from 0.69415\n",
            "1/1 [==============================] - 0s 130ms/step - loss: 0.6871 - accuracy: 0.7778 - val_loss: 0.7052 - val_accuracy: 0.0000e+00\n",
            "Epoch 13/30\n",
            "1/1 [==============================] - ETA: 0s - loss: 0.6866 - accuracy: 0.7778\n",
            "Epoch 13: val_loss did not improve from 0.69415\n",
            "1/1 [==============================] - 0s 132ms/step - loss: 0.6866 - accuracy: 0.7778 - val_loss: 0.7062 - val_accuracy: 0.0000e+00\n",
            "Epoch 14/30\n",
            "1/1 [==============================] - ETA: 0s - loss: 0.6860 - accuracy: 0.7778\n",
            "Epoch 14: val_loss did not improve from 0.69415\n",
            "1/1 [==============================] - 0s 128ms/step - loss: 0.6860 - accuracy: 0.7778 - val_loss: 0.7072 - val_accuracy: 0.0000e+00\n",
            "Epoch 15/30\n",
            "1/1 [==============================] - ETA: 0s - loss: 0.6855 - accuracy: 0.7778\n",
            "Epoch 15: val_loss did not improve from 0.69415\n",
            "1/1 [==============================] - 0s 126ms/step - loss: 0.6855 - accuracy: 0.7778 - val_loss: 0.7082 - val_accuracy: 0.0000e+00\n",
            "Epoch 16/30\n",
            "1/1 [==============================] - ETA: 0s - loss: 0.6849 - accuracy: 0.7778\n",
            "Epoch 16: val_loss did not improve from 0.69415\n",
            "1/1 [==============================] - 0s 122ms/step - loss: 0.6849 - accuracy: 0.7778 - val_loss: 0.7093 - val_accuracy: 0.0000e+00\n",
            "Epoch 17/30\n",
            "1/1 [==============================] - ETA: 0s - loss: 0.6844 - accuracy: 0.7778\n",
            "Epoch 17: val_loss did not improve from 0.69415\n",
            "1/1 [==============================] - 0s 139ms/step - loss: 0.6844 - accuracy: 0.7778 - val_loss: 0.7103 - val_accuracy: 0.0000e+00\n",
            "Epoch 18/30\n",
            "1/1 [==============================] - ETA: 0s - loss: 0.6839 - accuracy: 0.7778\n",
            "Epoch 18: val_loss did not improve from 0.69415\n",
            "1/1 [==============================] - 0s 128ms/step - loss: 0.6839 - accuracy: 0.7778 - val_loss: 0.7113 - val_accuracy: 0.0000e+00\n",
            "Epoch 19/30\n",
            "1/1 [==============================] - ETA: 0s - loss: 0.6833 - accuracy: 0.7778\n",
            "Epoch 19: val_loss did not improve from 0.69415\n",
            "1/1 [==============================] - 0s 150ms/step - loss: 0.6833 - accuracy: 0.7778 - val_loss: 0.7123 - val_accuracy: 0.0000e+00\n",
            "Epoch 20/30\n",
            "1/1 [==============================] - ETA: 0s - loss: 0.6828 - accuracy: 0.7778\n",
            "Epoch 20: val_loss did not improve from 0.69415\n",
            "1/1 [==============================] - 0s 139ms/step - loss: 0.6828 - accuracy: 0.7778 - val_loss: 0.7133 - val_accuracy: 0.0000e+00\n",
            "Epoch 21/30\n",
            "1/1 [==============================] - ETA: 0s - loss: 0.6823 - accuracy: 0.7778\n",
            "Epoch 21: val_loss did not improve from 0.69415\n",
            "1/1 [==============================] - 0s 125ms/step - loss: 0.6823 - accuracy: 0.7778 - val_loss: 0.7143 - val_accuracy: 0.0000e+00\n",
            "Epoch 22/30\n",
            "1/1 [==============================] - ETA: 0s - loss: 0.6817 - accuracy: 0.7778\n",
            "Epoch 22: val_loss did not improve from 0.69415\n",
            "1/1 [==============================] - 0s 120ms/step - loss: 0.6817 - accuracy: 0.7778 - val_loss: 0.7153 - val_accuracy: 0.0000e+00\n",
            "Epoch 23/30\n",
            "1/1 [==============================] - ETA: 0s - loss: 0.6812 - accuracy: 0.7778\n",
            "Epoch 23: val_loss did not improve from 0.69415\n",
            "1/1 [==============================] - 0s 130ms/step - loss: 0.6812 - accuracy: 0.7778 - val_loss: 0.7163 - val_accuracy: 0.0000e+00\n",
            "Epoch 24/30\n",
            "1/1 [==============================] - ETA: 0s - loss: 0.6807 - accuracy: 0.7778\n",
            "Epoch 24: val_loss did not improve from 0.69415\n",
            "1/1 [==============================] - 0s 130ms/step - loss: 0.6807 - accuracy: 0.7778 - val_loss: 0.7174 - val_accuracy: 0.0000e+00\n",
            "Epoch 25/30\n",
            "1/1 [==============================] - ETA: 0s - loss: 0.6801 - accuracy: 0.7778\n",
            "Epoch 25: val_loss did not improve from 0.69415\n",
            "1/1 [==============================] - 0s 132ms/step - loss: 0.6801 - accuracy: 0.7778 - val_loss: 0.7184 - val_accuracy: 0.0000e+00\n",
            "Epoch 26/30\n",
            "1/1 [==============================] - ETA: 0s - loss: 0.6796 - accuracy: 0.7778\n",
            "Epoch 26: val_loss did not improve from 0.69415\n",
            "1/1 [==============================] - 0s 150ms/step - loss: 0.6796 - accuracy: 0.7778 - val_loss: 0.7194 - val_accuracy: 0.0000e+00\n",
            "Epoch 27/30\n",
            "1/1 [==============================] - ETA: 0s - loss: 0.6791 - accuracy: 0.7778\n",
            "Epoch 27: val_loss did not improve from 0.69415\n",
            "1/1 [==============================] - 0s 142ms/step - loss: 0.6791 - accuracy: 0.7778 - val_loss: 0.7204 - val_accuracy: 0.0000e+00\n",
            "Epoch 28/30\n",
            "1/1 [==============================] - ETA: 0s - loss: 0.6786 - accuracy: 0.7778\n",
            "Epoch 28: val_loss did not improve from 0.69415\n",
            "1/1 [==============================] - 0s 138ms/step - loss: 0.6786 - accuracy: 0.7778 - val_loss: 0.7214 - val_accuracy: 0.0000e+00\n",
            "Epoch 29/30\n",
            "1/1 [==============================] - ETA: 0s - loss: 0.6780 - accuracy: 0.7778\n",
            "Epoch 29: val_loss did not improve from 0.69415\n",
            "1/1 [==============================] - 0s 137ms/step - loss: 0.6780 - accuracy: 0.7778 - val_loss: 0.7224 - val_accuracy: 0.0000e+00\n",
            "Epoch 30/30\n",
            "1/1 [==============================] - ETA: 0s - loss: 0.6775 - accuracy: 0.7778\n",
            "Epoch 30: val_loss did not improve from 0.69415\n",
            "1/1 [==============================] - 0s 137ms/step - loss: 0.6775 - accuracy: 0.7778 - val_loss: 0.7235 - val_accuracy: 0.0000e+00\n",
            "1/1 [==============================] - 0s 36ms/step - loss: 0.6931 - accuracy: 0.5000\n",
            "Test accuracy: 50.0%\n"
          ]
        }
      ],
      "source": [
        "# Utility for our sequence model.\n",
        "def get_sequence_model():\n",
        "    class_vocab = label_processor.get_vocabulary()\n",
        "\n",
        "    frame_features_input = keras.Input((MAX_SEQ_LENGTH, NUM_FEATURES))\n",
        "    mask_input = keras.Input((MAX_SEQ_LENGTH,), dtype=\"bool\")\n",
        "\n",
        "    # Refer to the following tutorial to understand the significance of using `mask`:\n",
        "    # https://keras.io/api/layers/recurrent_layers/gru/\n",
        "    x = keras.layers.GRU(16, return_sequences=True)(frame_features_input, mask=mask_input)\n",
        "    x = keras.layers.GRU(8)(x)\n",
        "    x = keras.layers.Dropout(0.4)(x)\n",
        "    x = keras.layers.Dense(8, activation=\"relu\")(x)\n",
        "    output = keras.layers.Dense(len(class_vocab), activation=\"softmax\")(x)\n",
        "\n",
        "    rnn_model = keras.Model([frame_features_input, mask_input], output)\n",
        "\n",
        "    rnn_model.compile(\n",
        "        loss=\"sparse_categorical_crossentropy\", optimizer=\"adam\", metrics=[\"accuracy\"]\n",
        "    )\n",
        "    return rnn_model\n",
        "\n",
        "EPOCHS = 30\n",
        "# Utility for running experiments.\n",
        "def run_experiment():\n",
        "    filepath = \"./tmp/video_classifier\"\n",
        "    checkpoint = keras.callbacks.ModelCheckpoint(\n",
        "        filepath, save_weights_only=True, save_best_only=True, verbose=1\n",
        "    )\n",
        "\n",
        "    seq_model = get_sequence_model()\n",
        "    history = seq_model.fit(\n",
        "        [train_data[0], train_data[1]],\n",
        "        train_labels,\n",
        "        validation_split=0.3,\n",
        "        epochs=EPOCHS,\n",
        "        callbacks=[checkpoint],\n",
        "    )\n",
        "\n",
        "    seq_model.load_weights(filepath)\n",
        "    _, accuracy = seq_model.evaluate([test_data[0], test_data[1]], test_labels)\n",
        "    print(f\"Test accuracy: {round(accuracy * 100, 2)}%\")\n",
        "\n",
        "    return history, seq_model\n",
        "\n",
        "\n",
        "_, sequence_model = run_experiment()"
      ]
    },
    {
      "cell_type": "markdown",
      "id": "6f1f1681",
      "metadata": {
        "id": "6f1f1681"
      },
      "source": [
        "# Inference"
      ]
    },
    {
      "cell_type": "code",
      "execution_count": null,
      "id": "846a5956",
      "metadata": {
        "id": "846a5956",
        "outputId": "48bb3124-a201-42a9-dde4-e090ed4939a5",
        "colab": {
          "base_uri": "https://localhost:8080/"
        }
      },
      "outputs": [
        {
          "output_type": "stream",
          "name": "stdout",
          "text": [
            "Test video path: dataset/test/yoga/yoga-1.mp4\n",
            "1/1 [==============================] - 2s 2s/step\n",
            "  dance: 50.05%\n",
            "  yoga: 49.95%\n"
          ]
        }
      ],
      "source": [
        "def prepare_single_video(frames):\n",
        "    frames = frames[None, ...]\n",
        "    frame_mask = np.zeros(shape=(1, MAX_SEQ_LENGTH,), dtype=\"bool\")\n",
        "    frame_features = np.zeros(shape=(1, MAX_SEQ_LENGTH, NUM_FEATURES), dtype=\"float32\")\n",
        "\n",
        "    for i, batch in enumerate(frames):\n",
        "        video_length = batch.shape[0]\n",
        "        length = min(MAX_SEQ_LENGTH, video_length)\n",
        "        for j in range(length):\n",
        "            frame_features[i, j, :] = feature_extractor.predict(batch[None, j, :])\n",
        "        frame_mask[i, :length] = 1  # 1 = not masked, 0 = masked\n",
        "\n",
        "    return frame_features, frame_mask\n",
        "\n",
        "\n",
        "def sequence_prediction(path):\n",
        "    class_vocab = label_processor.get_vocabulary()\n",
        "\n",
        "    frames = load_video(os.path.join(\"test\", path))\n",
        "    frame_features, frame_mask = prepare_single_video(frames)\n",
        "    probabilities = sequence_model.predict([frame_features, frame_mask])[0]\n",
        "\n",
        "    for i in np.argsort(probabilities)[::-1]:\n",
        "        print(f\"  {class_vocab[i]}: {probabilities[i] * 100:5.2f}%\")\n",
        "    return frames\n",
        "\n",
        "test_video = np.random.choice(test_df[\"video_name\"].values.tolist())\n",
        "print(f\"Test video path: {test_video}\")\n",
        "\n",
        "test_frames = sequence_prediction(test_video)\n"
      ]
    },
    {
      "cell_type": "code",
      "execution_count": null,
      "id": "6309d87b",
      "metadata": {
        "id": "6309d87b",
        "outputId": "d7a990b2-a82b-40e3-fa32-298128b1c10f",
        "colab": {
          "resources": {
            "http://localhost:8080/content/dataset/test/dance/dance-2.mp4": {
              "data": "CjwhRE9DVFlQRSBodG1sPgo8aHRtbCBsYW5nPWVuPgogIDxtZXRhIGNoYXJzZXQ9dXRmLTg+CiAgPG1ldGEgbmFtZT12aWV3cG9ydCBjb250ZW50PSJpbml0aWFsLXNjYWxlPTEsIG1pbmltdW0tc2NhbGU9MSwgd2lkdGg9ZGV2aWNlLXdpZHRoIj4KICA8dGl0bGU+RXJyb3IgNDA0IChOb3QgRm91bmQpISExPC90aXRsZT4KICA8c3R5bGU+CiAgICAqe21hcmdpbjowO3BhZGRpbmc6MH1odG1sLGNvZGV7Zm9udDoxNXB4LzIycHggYXJpYWwsc2Fucy1zZXJpZn1odG1se2JhY2tncm91bmQ6I2ZmZjtjb2xvcjojMjIyO3BhZGRpbmc6MTVweH1ib2R5e21hcmdpbjo3JSBhdXRvIDA7bWF4LXdpZHRoOjM5MHB4O21pbi1oZWlnaHQ6MTgwcHg7cGFkZGluZzozMHB4IDAgMTVweH0qID4gYm9keXtiYWNrZ3JvdW5kOnVybCgvL3d3dy5nb29nbGUuY29tL2ltYWdlcy9lcnJvcnMvcm9ib3QucG5nKSAxMDAlIDVweCBuby1yZXBlYXQ7cGFkZGluZy1yaWdodDoyMDVweH1we21hcmdpbjoxMXB4IDAgMjJweDtvdmVyZmxvdzpoaWRkZW59aW5ze2NvbG9yOiM3Nzc7dGV4dC1kZWNvcmF0aW9uOm5vbmV9YSBpbWd7Ym9yZGVyOjB9QG1lZGlhIHNjcmVlbiBhbmQgKG1heC13aWR0aDo3NzJweCl7Ym9keXtiYWNrZ3JvdW5kOm5vbmU7bWFyZ2luLXRvcDowO21heC13aWR0aDpub25lO3BhZGRpbmctcmlnaHQ6MH19I2xvZ297YmFja2dyb3VuZDp1cmwoLy93d3cuZ29vZ2xlLmNvbS9pbWFnZXMvbG9nb3MvZXJyb3JwYWdlL2Vycm9yX2xvZ28tMTUweDU0LnBuZykgbm8tcmVwZWF0O21hcmdpbi1sZWZ0Oi01cHh9QG1lZGlhIG9ubHkgc2NyZWVuIGFuZCAobWluLXJlc29sdXRpb246MTkyZHBpKXsjbG9nb3tiYWNrZ3JvdW5kOnVybCgvL3d3dy5nb29nbGUuY29tL2ltYWdlcy9sb2dvcy9lcnJvcnBhZ2UvZXJyb3JfbG9nby0xNTB4NTQtMngucG5nKSBuby1yZXBlYXQgMCUgMCUvMTAwJSAxMDAlOy1tb3otYm9yZGVyLWltYWdlOnVybCgvL3d3dy5nb29nbGUuY29tL2ltYWdlcy9sb2dvcy9lcnJvcnBhZ2UvZXJyb3JfbG9nby0xNTB4NTQtMngucG5nKSAwfX1AbWVkaWEgb25seSBzY3JlZW4gYW5kICgtd2Via2l0LW1pbi1kZXZpY2UtcGl4ZWwtcmF0aW86Mil7I2xvZ297YmFja2dyb3VuZDp1cmwoLy93d3cuZ29vZ2xlLmNvbS9pbWFnZXMvbG9nb3MvZXJyb3JwYWdlL2Vycm9yX2xvZ28tMTUweDU0LTJ4LnBuZykgbm8tcmVwZWF0Oy13ZWJraXQtYmFja2dyb3VuZC1zaXplOjEwMCUgMTAwJX19I2xvZ297ZGlzcGxheTppbmxpbmUtYmxvY2s7aGVpZ2h0OjU0cHg7d2lkdGg6MTUwcHh9CiAgPC9zdHlsZT4KICA8YSBocmVmPS8vd3d3Lmdvb2dsZS5jb20vPjxzcGFuIGlkPWxvZ28gYXJpYS1sYWJlbD1Hb29nbGU+PC9zcGFuPjwvYT4KICA8cD48Yj40MDQuPC9iPiA8aW5zPlRoYXTigJlzIGFuIGVycm9yLjwvaW5zPgogIDxwPiAgPGlucz5UaGF04oCZcyBhbGwgd2Uga25vdy48L2lucz4K",
              "ok": false,
              "headers": [
                [
                  "content-length",
                  "1449"
                ],
                [
                  "content-type",
                  "text/html; charset=utf-8"
                ]
              ],
              "status": 404,
              "status_text": ""
            }
          },
          "base_uri": "https://localhost:8080/",
          "height": 462
        }
      },
      "outputs": [
        {
          "output_type": "execute_result",
          "data": {
            "text/plain": [
              "<IPython.core.display.HTML object>"
            ],
            "text/html": [
              "\n",
              "    <video alt=\"test\" width=\"520\" height=\"440\" controls>\n",
              "        <source src=\"/content/dataset/test/dance/dance-2.mp4\" type=\"video/mp4\" style=\"height:300px;width:300px\">\n",
              "    </video>\n"
            ]
          },
          "metadata": {},
          "execution_count": 27
        }
      ],
      "source": [
        "from IPython.display import HTML\n",
        "\n",
        "HTML(\"\"\"\n",
        "    <video alt=\"test\" width=\"520\" height=\"440\" controls>\n",
        "        <source src=\"/content/dataset/test/dance/dance-2.mp4\" type=\"video/mp4\" style=\"height:300px;width:300px\">\n",
        "    </video>\n",
        "\"\"\")\n"
      ]
    }
  ],
  "metadata": {
    "kernelspec": {
      "display_name": "Python 3",
      "name": "python3"
    },
    "language_info": {
      "codemirror_mode": {
        "name": "ipython",
        "version": 3
      },
      "file_extension": ".py",
      "mimetype": "text/x-python",
      "name": "python",
      "nbconvert_exporter": "python",
      "pygments_lexer": "ipython3",
      "version": "3.7.6"
    },
    "colab": {
      "provenance": [],
      "gpuType": "T4",
      "include_colab_link": true
    },
    "accelerator": "GPU"
  },
  "nbformat": 4,
  "nbformat_minor": 5
}